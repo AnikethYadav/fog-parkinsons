{
 "cells": [
  {
   "cell_type": "code",
   "execution_count": 2,
   "metadata": {},
   "outputs": [],
   "source": [
    "import os\n",
    "os.getcwd()\n",
    "os.chdir(\"/home/aniketh/Documents/fog-parkinsons/dataset\")"
   ]
  },
  {
   "cell_type": "code",
   "execution_count": 3,
   "metadata": {},
   "outputs": [],
   "source": [
    "import pandas as pd\n",
    "import numpy as np\n",
    "import matplotlib.pyplot as plt\n",
    "import glob"
   ]
  },
  {
   "cell_type": "code",
   "execution_count": 2,
   "metadata": {},
   "outputs": [],
   "source": [
    "from pyts.image import RecurrencePlots"
   ]
  },
  {
   "cell_type": "code",
   "execution_count": 4,
   "metadata": {},
   "outputs": [
    {
     "data": {
      "text/plain": [
       "'/home/aniketh/anaconda3/envs/thesisv1/bin/python'"
      ]
     },
     "execution_count": 4,
     "metadata": {},
     "output_type": "execute_result"
    }
   ],
   "source": [
    "import sys\n",
    "sys.executable"
   ]
  },
  {
   "cell_type": "code",
   "execution_count": 5,
   "metadata": {},
   "outputs": [],
   "source": [
    "#creating a list of datasets where each element corresponds to a patient\n",
    "\n",
    "allFiles = glob.glob(os.getcwd() + \"/*.txt\")\n",
    "df = []\n",
    "s = \"Time of sample,Ankle_1,Ankle_2,Ankle_3,Thigh_1,Thigh_2,Thigh_3,Trunk_1,Trunk_2,Trunk_3,status\"\n",
    "\n",
    "for filename in allFiles:\n",
    "        df.append(pd.read_csv(filename,sep = \"\\s+\", header = None, names = s.split(\",\")))"
   ]
  },
  {
   "cell_type": "code",
   "execution_count": 6,
   "metadata": {},
   "outputs": [
    {
     "name": "stdout",
     "output_type": "stream",
     "text": [
      "(72561, 11)\n",
      "(144190, 11)\n",
      "(89645, 11)\n",
      "(119525, 11)\n",
      "(193303, 11)\n",
      "(52095, 11)\n",
      "(109886, 11)\n",
      "(100746, 11)\n",
      "(50335, 11)\n",
      "(195737, 11)\n",
      "(136589, 11)\n",
      "(172311, 11)\n",
      "(151987, 11)\n",
      "(38774, 11)\n",
      "(175707, 11)\n",
      "(70269, 11)\n",
      "(44227, 11)\n"
     ]
    }
   ],
   "source": [
    "# ignoring status = 0 as it's not part of the experiment\n",
    "for i in range(len(df)):\n",
    "    print(df[i].shape)"
   ]
  },
  {
   "cell_type": "code",
   "execution_count": 40,
   "metadata": {},
   "outputs": [
    {
     "name": "stdout",
     "output_type": "stream",
     "text": [
      "0    46960\n",
      "1    22064\n",
      "2     3537\n",
      "Name: status, dtype: int64\n",
      "1    74848\n",
      "0    53308\n",
      "2    16034\n",
      "Name: status, dtype: int64\n",
      "1    56889\n",
      "0    24684\n",
      "2     8072\n",
      "Name: status, dtype: int64\n",
      "1    70365\n",
      "0    45284\n",
      "2     3876\n",
      "Name: status, dtype: int64\n",
      "1    142722\n",
      "0     50581\n",
      "Name: status, dtype: int64\n",
      "1    27254\n",
      "0    23294\n",
      "2     1547\n",
      "Name: status, dtype: int64\n",
      "1    50491\n",
      "0    42042\n",
      "2    17353\n",
      "Name: status, dtype: int64\n",
      "1    52905\n",
      "0    34824\n",
      "2    13017\n",
      "Name: status, dtype: int64\n",
      "1    27464\n",
      "0    21534\n",
      "2     1337\n",
      "Name: status, dtype: int64\n",
      "1    132482\n",
      "0     63255\n",
      "Name: status, dtype: int64\n",
      "0    87305\n",
      "1    36425\n",
      "2    12859\n",
      "Name: status, dtype: int64\n",
      "1    94078\n",
      "0    60946\n",
      "2    17287\n",
      "Name: status, dtype: int64\n",
      "1    87655\n",
      "0    59185\n",
      "2     5147\n",
      "Name: status, dtype: int64\n",
      "0    22133\n",
      "1    14335\n",
      "2     2306\n",
      "Name: status, dtype: int64\n",
      "1    99110\n",
      "0    68184\n",
      "2     8413\n",
      "Name: status, dtype: int64\n",
      "0    49148\n",
      "1    21121\n",
      "Name: status, dtype: int64\n",
      "0    24385\n",
      "1    19842\n",
      "Name: status, dtype: int64\n"
     ]
    }
   ],
   "source": [
    "for i in range(len(df)):\n",
    "    print(df[i][\"status\"].value_counts())"
   ]
  },
  {
   "cell_type": "code",
   "execution_count": 42,
   "metadata": {},
   "outputs": [
    {
     "data": {
      "text/plain": [
       "17"
      ]
     },
     "execution_count": 42,
     "metadata": {},
     "output_type": "execute_result"
    }
   ],
   "source": [
    "70365//4000"
   ]
  },
  {
   "cell_type": "code",
   "execution_count": 8,
   "metadata": {},
   "outputs": [],
   "source": [
    "# ignoring status = 0 as it's not part of the experiment\n",
    "for i in range(len(df)):\n",
    "    df[i] = df[i][df[i].status != 0]"
   ]
  },
  {
   "cell_type": "code",
   "execution_count": 9,
   "metadata": {},
   "outputs": [],
   "source": [
    "#selecting only status \"1\" and \"2\", \"no FOG\" and \"FOG\"\n",
    "df_non_fog = []\n",
    "df_fog = []\n",
    "\n",
    "for i in range(17):\n",
    "    df_non_fog.append(df[i][df[i].status == 1])\n",
    "    df_fog.append(df[i][df[i].status == 2])\n"
   ]
  },
  {
   "cell_type": "code",
   "execution_count": 1,
   "metadata": {},
   "outputs": [
    {
     "ename": "NameError",
     "evalue": "name 'df_fog' is not defined",
     "output_type": "error",
     "traceback": [
      "\u001b[0;31m---------------------------------------------------------------------------\u001b[0m",
      "\u001b[0;31mNameError\u001b[0m                                 Traceback (most recent call last)",
      "\u001b[0;32m<ipython-input-1-f565c32868f5>\u001b[0m in \u001b[0;36m<module>\u001b[0;34m\u001b[0m\n\u001b[1;32m      1\u001b[0m \u001b[0;32mfor\u001b[0m \u001b[0mi\u001b[0m \u001b[0;32min\u001b[0m \u001b[0mrange\u001b[0m\u001b[0;34m(\u001b[0m\u001b[0;36m17\u001b[0m\u001b[0;34m)\u001b[0m\u001b[0;34m:\u001b[0m\u001b[0;34m\u001b[0m\u001b[0;34m\u001b[0m\u001b[0m\n\u001b[0;32m----> 2\u001b[0;31m     \u001b[0mprint\u001b[0m\u001b[0;34m(\u001b[0m\u001b[0mi\u001b[0m\u001b[0;34m,\u001b[0m \u001b[0mdf_fog\u001b[0m\u001b[0;34m[\u001b[0m\u001b[0mi\u001b[0m\u001b[0;34m]\u001b[0m\u001b[0;34m.\u001b[0m\u001b[0mshape\u001b[0m\u001b[0;34m)\u001b[0m\u001b[0;34m\u001b[0m\u001b[0;34m\u001b[0m\u001b[0m\n\u001b[0m",
      "\u001b[0;31mNameError\u001b[0m: name 'df_fog' is not defined"
     ]
    }
   ],
   "source": [
    "for i in range(17):\n",
    "    print(i, df_fog[i].shape)"
   ]
  },
  {
   "cell_type": "code",
   "execution_count": 26,
   "metadata": {},
   "outputs": [
    {
     "name": "stdout",
     "output_type": "stream",
     "text": [
      "0 (25601, 11)\n",
      "1 (90882, 11)\n",
      "2 (64961, 11)\n",
      "3 (74241, 11)\n",
      "4 (142722, 11)\n",
      "5 (28801, 11)\n",
      "6 (67844, 11)\n",
      "7 (65922, 11)\n",
      "8 (28801, 11)\n",
      "9 (132482, 11)\n",
      "10 (49284, 11)\n",
      "11 (111365, 11)\n",
      "12 (92802, 11)\n",
      "13 (16641, 11)\n",
      "14 (107523, 11)\n",
      "15 (21121, 11)\n",
      "16 (19842, 11)\n"
     ]
    }
   ],
   "source": [
    "for i in range(17):\n",
    "    print(i, df[i].shape)\n"
   ]
  },
  {
   "cell_type": "code",
   "execution_count": 27,
   "metadata": {},
   "outputs": [
    {
     "data": {
      "text/plain": [
       "1    22064\n",
       "2     3537\n",
       "Name: status, dtype: int64"
      ]
     },
     "execution_count": 27,
     "metadata": {},
     "output_type": "execute_result"
    }
   ],
   "source": [
    "df[0][\"status\"].value_counts()"
   ]
  },
  {
   "cell_type": "code",
   "execution_count": 28,
   "metadata": {},
   "outputs": [
    {
     "data": {
      "text/plain": [
       "(22064, 10)"
      ]
     },
     "execution_count": 28,
     "metadata": {},
     "output_type": "execute_result"
    }
   ],
   "source": [
    "df_non_fog[0].shape"
   ]
  },
  {
   "cell_type": "code",
   "execution_count": 29,
   "metadata": {},
   "outputs": [
    {
     "data": {
      "text/plain": [
       "(3537, 10)"
      ]
     },
     "execution_count": 29,
     "metadata": {},
     "output_type": "execute_result"
    }
   ],
   "source": [
    "df_fog[0].shape"
   ]
  },
  {
   "cell_type": "code",
   "execution_count": 10,
   "metadata": {},
   "outputs": [
    {
     "name": "stderr",
     "output_type": "stream",
     "text": [
      "/home/aniketh/.local/lib/python3.6/site-packages/pandas/core/frame.py:3940: SettingWithCopyWarning: \n",
      "A value is trying to be set on a copy of a slice from a DataFrame\n",
      "\n",
      "See the caveats in the documentation: http://pandas.pydata.org/pandas-docs/stable/indexing.html#indexing-view-versus-copy\n",
      "  errors=errors)\n"
     ]
    }
   ],
   "source": [
    "for i in range(17):\n",
    "    df_non_fog[i].drop([\"status\"], axis = 1, inplace = True)\n",
    "    df_fog[i].drop([\"status\"], axis = 1, inplace = True)"
   ]
  },
  {
   "cell_type": "code",
   "execution_count": 11,
   "metadata": {},
   "outputs": [
    {
     "data": {
      "text/html": [
       "<div>\n",
       "<style scoped>\n",
       "    .dataframe tbody tr th:only-of-type {\n",
       "        vertical-align: middle;\n",
       "    }\n",
       "\n",
       "    .dataframe tbody tr th {\n",
       "        vertical-align: top;\n",
       "    }\n",
       "\n",
       "    .dataframe thead th {\n",
       "        text-align: right;\n",
       "    }\n",
       "</style>\n",
       "<table border=\"1\" class=\"dataframe\">\n",
       "  <thead>\n",
       "    <tr style=\"text-align: right;\">\n",
       "      <th></th>\n",
       "      <th>Time of sample</th>\n",
       "      <th>Ankle_1</th>\n",
       "      <th>Ankle_2</th>\n",
       "      <th>Ankle_3</th>\n",
       "      <th>Thigh_1</th>\n",
       "      <th>Thigh_2</th>\n",
       "      <th>Thigh_3</th>\n",
       "      <th>Trunk_1</th>\n",
       "      <th>Trunk_2</th>\n",
       "      <th>Trunk_3</th>\n",
       "    </tr>\n",
       "  </thead>\n",
       "  <tbody>\n",
       "    <tr>\n",
       "      <th>54488</th>\n",
       "      <td>851390</td>\n",
       "      <td>-383</td>\n",
       "      <td>892</td>\n",
       "      <td>297</td>\n",
       "      <td>-245</td>\n",
       "      <td>907</td>\n",
       "      <td>131</td>\n",
       "      <td>126</td>\n",
       "      <td>885</td>\n",
       "      <td>0</td>\n",
       "    </tr>\n",
       "    <tr>\n",
       "      <th>54489</th>\n",
       "      <td>851406</td>\n",
       "      <td>-535</td>\n",
       "      <td>754</td>\n",
       "      <td>148</td>\n",
       "      <td>-454</td>\n",
       "      <td>833</td>\n",
       "      <td>202</td>\n",
       "      <td>19</td>\n",
       "      <td>933</td>\n",
       "      <td>-126</td>\n",
       "    </tr>\n",
       "    <tr>\n",
       "      <th>54490</th>\n",
       "      <td>851421</td>\n",
       "      <td>-555</td>\n",
       "      <td>735</td>\n",
       "      <td>79</td>\n",
       "      <td>-490</td>\n",
       "      <td>861</td>\n",
       "      <td>292</td>\n",
       "      <td>29</td>\n",
       "      <td>838</td>\n",
       "      <td>19</td>\n",
       "    </tr>\n",
       "    <tr>\n",
       "      <th>54491</th>\n",
       "      <td>851437</td>\n",
       "      <td>-444</td>\n",
       "      <td>882</td>\n",
       "      <td>9</td>\n",
       "      <td>-209</td>\n",
       "      <td>1055</td>\n",
       "      <td>252</td>\n",
       "      <td>0</td>\n",
       "      <td>1019</td>\n",
       "      <td>-174</td>\n",
       "    </tr>\n",
       "    <tr>\n",
       "      <th>54492</th>\n",
       "      <td>851453</td>\n",
       "      <td>-282</td>\n",
       "      <td>1088</td>\n",
       "      <td>59</td>\n",
       "      <td>127</td>\n",
       "      <td>1111</td>\n",
       "      <td>30</td>\n",
       "      <td>-58</td>\n",
       "      <td>1085</td>\n",
       "      <td>-97</td>\n",
       "    </tr>\n",
       "  </tbody>\n",
       "</table>\n",
       "</div>"
      ],
      "text/plain": [
       "       Time of sample  Ankle_1  Ankle_2  Ankle_3  Thigh_1  Thigh_2  Thigh_3  \\\n",
       "54488          851390     -383      892      297     -245      907      131   \n",
       "54489          851406     -535      754      148     -454      833      202   \n",
       "54490          851421     -555      735       79     -490      861      292   \n",
       "54491          851437     -444      882        9     -209     1055      252   \n",
       "54492          851453     -282     1088       59      127     1111       30   \n",
       "\n",
       "       Trunk_1  Trunk_2  Trunk_3  \n",
       "54488      126      885        0  \n",
       "54489       19      933     -126  \n",
       "54490       29      838       19  \n",
       "54491        0     1019     -174  \n",
       "54492      -58     1085      -97  "
      ]
     },
     "execution_count": 11,
     "metadata": {},
     "output_type": "execute_result"
    }
   ],
   "source": [
    "df_fog[0].head()"
   ]
  },
  {
   "cell_type": "code",
   "execution_count": 15,
   "metadata": {},
   "outputs": [
    {
     "data": {
      "text/plain": [
       "array([-524, -433, -484, ..., -614, -694, -634])"
      ]
     },
     "execution_count": 15,
     "metadata": {},
     "output_type": "execute_result"
    }
   ],
   "source": [
    "#\n",
    "\n",
    "df_1_avged = np.array([sum(df_1[\"Ankle_1\"].iloc[i:i+4]) for i in range(0,27256, 8)])\n",
    "df_1_avged"
   ]
  },
  {
   "cell_type": "code",
   "execution_count": 17,
   "metadata": {},
   "outputs": [
    {
     "data": {
      "image/png": "[encoded data removed]",
      "text/plain": [
       "<Figure size 576x576 with 1 Axes>"
      ]
     },
     "metadata": {
      "needs_background": "light"
     },
     "output_type": "display_data"
    }
   ],
   "source": [
    "\n",
    "from pyts.image import RecurrencePlots\n",
    "rp = RecurrencePlots(dimension=1,\n",
    "                     epsilon='percentage_points',\n",
    "                     percentage=30)\n",
    "\n",
    "X_rp = rp.fit_transform(df_1_avged.reshape(1,-1))\n",
    "# X_rp = rp.fit_transform(X)\n",
    "\n",
    "# Show the results for the first time series\n",
    "plt.figure(figsize=(8, 8))\n",
    "plt.imshow(X_rp[0], cmap='binary', origin='lower')\n",
    "plt.show()\n",
    "\n"
   ]
  },
  {
   "cell_type": "code",
   "execution_count": 19,
   "metadata": {},
   "outputs": [
    {
     "data": {
      "image/png": "[encoded data removed]",
      "text/plain": [
       "<Figure size 576x576 with 1 Axes>"
      ]
     },
     "metadata": {
      "needs_background": "light"
     },
     "output_type": "display_data"
    }
   ],
   "source": [
    "X_rp = rp.fit_transform(df_2[\"Ankle_1\"].values.reshape(1,-1))\n",
    "# X_rp = rp.fit_transform(X)\n",
    "\n",
    "# Show the results for the first time series\n",
    "plt.figure(figsize=(8, 8))\n",
    "plt.imshow(X_rp[0], cmap='binary', origin='lower')\n",
    "plt.show()\n"
   ]
  },
  {
   "cell_type": "code",
   "execution_count": 16,
   "metadata": {},
   "outputs": [],
   "source": [
    "def avgData(data, limit, window):\n",
    "    data = np.array([sum(data.iloc[i:i+window])/window for i in range(0,limit, window)])\n",
    "    return data\n",
    "from pyts.image import RecurrencePlots\n",
    "\n",
    "# Recurrence plot transformation\n",
    "rp = RecurrencePlots(dimension=1,\n",
    "                     epsilon='percentage_points',\n",
    "                     percentage=30)\n",
    "\n",
    "def sectionRPview(column_data, section, rem, label, limit = 0):\n",
    "    zipped_sections = zip(range(0,section), range(1,section+1))\n",
    "    for i, j in zipped_sections:\n",
    "        \n",
    "        data = column_data[i*limit:j*limit]\n",
    "        print(i, j)\n",
    "        RPview(data, label = label + str(i)+\"_\"+str(j))\n",
    "    RPview(column_data[section*limit:], label = label +\"_\"+\"rem\")\n",
    "    \n",
    "    \n",
    "        \n",
    "    \n",
    "def RPview(data, limit = 0, window = 0, avg = False, label = None):\n",
    "    if avg == True:\n",
    "        data = avgData(data, limit, window)\n",
    "        X_rp = rp.fit_transform(data.values.reshape(1,-1))\n",
    "        plt.imshow(X_rp[0], cmap='gray', origin='lower')\n",
    "        \n",
    "    else:\n",
    "        X_rp = rp.fit_transform(data.values.reshape(1, -1))\n",
    "        plt.imshow(X_rp[0], origin='lower')"
   ]
  },
  {
   "cell_type": "code",
   "execution_count": 27,
   "metadata": {},
   "outputs": [],
   "source": [
    "sections_non_fog = []\n",
    "rem_non_fog = []\n",
    "for i in range(len(df_non_fog)):\n",
    "    sections_non_fog.append(df_non_fog[i].shape[0]//4000)\n",
    "    rem_non_fog.append(df_non_fog[i].shape[0]%4000)"
   ]
  },
  {
   "cell_type": "code",
   "execution_count": 28,
   "metadata": {},
   "outputs": [
    {
     "name": "stdout",
     "output_type": "stream",
     "text": [
      "5 2064 12\n",
      "18 2848 13\n",
      "14 889 14\n",
      "17 2365 15\n",
      "35 2722 16\n"
     ]
    }
   ],
   "source": [
    "zipped_non_fog = zip(sections_non_fog,rem_non_fog, range(12,len(df_non_fog)))\n",
    "for b,c,d in zipped_non_fog:\n",
    "    print(b,c,d)"
   ]
  },
  {
   "cell_type": "code",
   "execution_count": 24,
   "metadata": {},
   "outputs": [
    {
     "name": "stdout",
     "output_type": "stream",
     "text": [
      "87655 21\n",
      "14335 3\n",
      "99110 24\n",
      "21121 5\n",
      "19842 4\n"
     ]
    }
   ],
   "source": [
    "for i in range(12,17):\n",
    "    print(df_non_fog[i].shape[0], df_non_fog[i].shape[0]//4000)"
   ]
  },
  {
   "cell_type": "code",
   "execution_count": 14,
   "metadata": {},
   "outputs": [],
   "source": [
    "os.chdir(\"/home/aniketh/Documents/fog-parkinsons/rps/120s/non_fog\")\n",
    "def view_data(data_list, limit_ = 4000):\n",
    "    for section_, rem_, df_index in zipped_non_fog:\n",
    "        print(section_, rem_, df_index)\n",
    "        for column_index in range(1,10):\n",
    "            sectionRPview(data_list[df_index].iloc[:,column_index],section = section_, rem = rem_ ,label = str(df_index)+\"_\"+str(column_index)+\"_\", limit = limit_)\n",
    "    "
   ]
  },
  {
   "cell_type": "code",
   "execution_count": 15,
   "metadata": {},
   "outputs": [],
   "source": [
    "def avgData(data, limit, window):\n",
    "    data = np.array([sum(data.iloc[i:i+window])/window for i in range(0,limit, window)])\n",
    "    return data\n",
    "from pyts.image import RecurrencePlots\n",
    "\n",
    "# Recurrence plot transformation\n",
    "rp = RecurrencePlots(dimension=1,\n",
    "                     epsilon='percentage_points',\n",
    "                     percentage=30)\n",
    "\n",
    "def sectionRPsave(column_data, section, rem, label, limit = 0):\n",
    "    if section != 0 :\n",
    "        zipped_sections = zip(range(0,section), range(1,section+1))\n",
    "        for i, j in zipped_sections:\n",
    "            data = column_data[i*limit:j*limit]\n",
    "            RPsave(data, label = label + str(i)+\"_\"+str(j))\n",
    "        RPsave(column_data[section*limit:], label = label +\"_rem\")\n",
    "    else:\n",
    "        RPsave(column_data, label = label +\"_0_section\")\n",
    "    \n",
    "        \n",
    "    \n",
    "def RPsave(data, limit = 0, window = 0, avg = False, label = None):\n",
    "    if avg == True:\n",
    "        data = avgData(data, limit, window)\n",
    "        X_rp = rp.fit_transform(data.values.reshape(1,-1))\n",
    "        plt.imsave(label, X_rp[0], cmap='gray', origin='lower')\n",
    "        \n",
    "    else:\n",
    "        X_rp = rp.fit_transform(data.values.reshape(1, -1))\n",
    "        plt.imsave(label, X_rp[0], origin='lower')"
   ]
  },
  {
   "cell_type": "code",
   "execution_count": 38,
   "metadata": {},
   "outputs": [],
   "source": [
    "os.chdir(\"/home/aniketh/Documents/fog-parkinsons/rps/120s/non_fog\")\n",
    "def create_data(data_list, limit_ = 4000):\n",
    "    for section_, rem_, df_index in zipped_non_fog:\n",
    "        for column_index in range(1,10):\n",
    "            sectionRPsave(data_list[df_index].iloc[:,column_index],section = section_, rem = rem_ ,label = str(df_index)+\"_\"+str(column_index)+\"_\", limit = limit_)\n",
    "    "
   ]
  },
  {
   "cell_type": "code",
   "execution_count": 30,
   "metadata": {},
   "outputs": [],
   "source": [
    "sections_non_fog = []\n",
    "rem_non_fog = []\n",
    "for i in df_non_fog:\n",
    "    sections_non_fog.append(i.shape[0]//4000)\n",
    "    rem_non_fog.append(i.shape[0]%4000)"
   ]
  },
  {
   "cell_type": "code",
   "execution_count": 37,
   "metadata": {},
   "outputs": [],
   "source": [
    "# zipped_non_fog = zip(sections_non_fog,rem_non_fog, range(len(df_non_fog)))\n",
    "# for b,c,d in zipped_non_fog:\n",
    "#     print(b,c,d)"
   ]
  },
  {
   "cell_type": "code",
   "execution_count": 40,
   "metadata": {
    "scrolled": true
   },
   "outputs": [],
   "source": [
    "create_data(df_non_fog)"
   ]
  },
  {
   "cell_type": "code",
   "execution_count": 43,
   "metadata": {},
   "outputs": [
    {
     "name": "stdout",
     "output_type": "stream",
     "text": [
      "3537\n",
      "16034\n",
      "8072\n",
      "3876\n",
      "0\n",
      "1547\n",
      "17353\n",
      "13017\n",
      "1337\n",
      "0\n",
      "12859\n",
      "17287\n",
      "5147\n",
      "2306\n",
      "8413\n",
      "0\n",
      "0\n"
     ]
    }
   ],
   "source": [
    "for i in range(17):\n",
    "    print(df_fog[i].shape[0])"
   ]
  },
  {
   "cell_type": "code",
   "execution_count": 16,
   "metadata": {},
   "outputs": [
    {
     "name": "stdout",
     "output_type": "stream",
     "text": [
      "3537\n",
      "16034\n",
      "8072\n",
      "3876\n",
      "1547\n",
      "17353\n",
      "13017\n",
      "1337\n",
      "12859\n",
      "17287\n",
      "5147\n",
      "2306\n",
      "8413\n"
     ]
    }
   ],
   "source": [
    "indices = [0,1,2,3,5,6,7,8,10,11,12,13,14]\n",
    "df_fog_1 = []\n",
    "for i in indices:\n",
    "    df_fog_1.append(df_fog[i])\n",
    "for i in range(13):\n",
    "    print(df_fog_1[i].shape[0])"
   ]
  },
  {
   "cell_type": "code",
   "execution_count": 17,
   "metadata": {},
   "outputs": [],
   "source": [
    "df_fog = df_fog_1"
   ]
  },
  {
   "cell_type": "code",
   "execution_count": 18,
   "metadata": {},
   "outputs": [],
   "source": [
    "sections_fog = []\n",
    "rem_fog = []\n",
    "for i in df_fog:\n",
    "    sections_fog.append(i.shape[0]//4000)\n",
    "    rem_fog.append(i.shape[0]%4000)"
   ]
  },
  {
   "cell_type": "code",
   "execution_count": 19,
   "metadata": {},
   "outputs": [
    {
     "name": "stdout",
     "output_type": "stream",
     "text": [
      "0 3537 0\n",
      "4 34 1\n",
      "2 72 2\n",
      "0 3876 3\n",
      "0 1547 4\n",
      "4 1353 5\n",
      "3 1017 6\n",
      "0 1337 7\n",
      "3 859 8\n",
      "4 1287 9\n",
      "1 1147 10\n",
      "0 2306 11\n",
      "2 413 12\n"
     ]
    }
   ],
   "source": [
    "zipped_fog = zip(sections_fog,rem_fog, range(len(df_fog)))\n",
    "for b,c,d in zipped_fog:\n",
    "    print(b,c,d)"
   ]
  },
  {
   "cell_type": "code",
   "execution_count": 20,
   "metadata": {},
   "outputs": [],
   "source": [
    "os.chdir(\"/home/aniketh/Documents/fog-parkinsons/rps/120s/fog\")\n",
    "zipped_fog = zip(sections_fog,rem_fog, range(len(df_fog)))\n",
    "def create_data(data_list, limit_ = 4000):\n",
    "    for section_, rem_, df_index in zipped_fog:\n",
    "        for column_index in range(1,10):\n",
    "            sectionRPsave(data_list[df_index].iloc[:,column_index],section = section_, rem = rem_ ,label = str(df_index)+\"_\"+str(column_index)+\"_\", limit = limit_)\n",
    "    "
   ]
  },
  {
   "cell_type": "code",
   "execution_count": 21,
   "metadata": {},
   "outputs": [
    {
     "ename": "KeyboardInterrupt",
     "evalue": "",
     "output_type": "error",
     "traceback": [
      "\u001b[0;31m---------------------------------------------------------------------------\u001b[0m",
      "\u001b[0;31mKeyboardInterrupt\u001b[0m                         Traceback (most recent call last)",
      "\u001b[0;32m<ipython-input-21-9271e2c411f4>\u001b[0m in \u001b[0;36m<module>\u001b[0;34m\u001b[0m\n\u001b[0;32m----> 1\u001b[0;31m \u001b[0mcreate_data\u001b[0m\u001b[0;34m(\u001b[0m\u001b[0mdf_fog\u001b[0m\u001b[0;34m)\u001b[0m\u001b[0;34m\u001b[0m\u001b[0;34m\u001b[0m\u001b[0m\n\u001b[0m",
      "\u001b[0;32m<ipython-input-20-b95ca97bb0f9>\u001b[0m in \u001b[0;36mcreate_data\u001b[0;34m(data_list, limit_)\u001b[0m\n\u001b[1;32m      4\u001b[0m     \u001b[0;32mfor\u001b[0m \u001b[0msection_\u001b[0m\u001b[0;34m,\u001b[0m \u001b[0mrem_\u001b[0m\u001b[0;34m,\u001b[0m \u001b[0mdf_index\u001b[0m \u001b[0;32min\u001b[0m \u001b[0mzipped_fog\u001b[0m\u001b[0;34m:\u001b[0m\u001b[0;34m\u001b[0m\u001b[0;34m\u001b[0m\u001b[0m\n\u001b[1;32m      5\u001b[0m         \u001b[0;32mfor\u001b[0m \u001b[0mcolumn_index\u001b[0m \u001b[0;32min\u001b[0m \u001b[0mrange\u001b[0m\u001b[0;34m(\u001b[0m\u001b[0;36m1\u001b[0m\u001b[0;34m,\u001b[0m\u001b[0;36m10\u001b[0m\u001b[0;34m)\u001b[0m\u001b[0;34m:\u001b[0m\u001b[0;34m\u001b[0m\u001b[0;34m\u001b[0m\u001b[0m\n\u001b[0;32m----> 6\u001b[0;31m             \u001b[0msectionRPsave\u001b[0m\u001b[0;34m(\u001b[0m\u001b[0mdata_list\u001b[0m\u001b[0;34m[\u001b[0m\u001b[0mdf_index\u001b[0m\u001b[0;34m]\u001b[0m\u001b[0;34m.\u001b[0m\u001b[0miloc\u001b[0m\u001b[0;34m[\u001b[0m\u001b[0;34m:\u001b[0m\u001b[0;34m,\u001b[0m\u001b[0mcolumn_index\u001b[0m\u001b[0;34m]\u001b[0m\u001b[0;34m,\u001b[0m\u001b[0msection\u001b[0m \u001b[0;34m=\u001b[0m \u001b[0msection_\u001b[0m\u001b[0;34m,\u001b[0m \u001b[0mrem\u001b[0m \u001b[0;34m=\u001b[0m \u001b[0mrem_\u001b[0m \u001b[0;34m,\u001b[0m\u001b[0mlabel\u001b[0m \u001b[0;34m=\u001b[0m \u001b[0mstr\u001b[0m\u001b[0;34m(\u001b[0m\u001b[0mdf_index\u001b[0m\u001b[0;34m)\u001b[0m\u001b[0;34m+\u001b[0m\u001b[0;34m\"_\"\u001b[0m\u001b[0;34m+\u001b[0m\u001b[0mstr\u001b[0m\u001b[0;34m(\u001b[0m\u001b[0mcolumn_index\u001b[0m\u001b[0;34m)\u001b[0m\u001b[0;34m+\u001b[0m\u001b[0;34m\"_\"\u001b[0m\u001b[0;34m,\u001b[0m \u001b[0mlimit\u001b[0m \u001b[0;34m=\u001b[0m \u001b[0mlimit_\u001b[0m\u001b[0;34m)\u001b[0m\u001b[0;34m\u001b[0m\u001b[0;34m\u001b[0m\u001b[0m\n\u001b[0m\u001b[1;32m      7\u001b[0m \u001b[0;34m\u001b[0m\u001b[0m\n",
      "\u001b[0;32m<ipython-input-15-32ef6a1415ec>\u001b[0m in \u001b[0;36msectionRPsave\u001b[0;34m(column_data, section, rem, label, limit)\u001b[0m\n\u001b[1;32m     14\u001b[0m         \u001b[0;32mfor\u001b[0m \u001b[0mi\u001b[0m\u001b[0;34m,\u001b[0m \u001b[0mj\u001b[0m \u001b[0;32min\u001b[0m \u001b[0mzipped_sections\u001b[0m\u001b[0;34m:\u001b[0m\u001b[0;34m\u001b[0m\u001b[0;34m\u001b[0m\u001b[0m\n\u001b[1;32m     15\u001b[0m             \u001b[0mdata\u001b[0m \u001b[0;34m=\u001b[0m \u001b[0mcolumn_data\u001b[0m\u001b[0;34m[\u001b[0m\u001b[0mi\u001b[0m\u001b[0;34m*\u001b[0m\u001b[0mlimit\u001b[0m\u001b[0;34m:\u001b[0m\u001b[0mj\u001b[0m\u001b[0;34m*\u001b[0m\u001b[0mlimit\u001b[0m\u001b[0;34m]\u001b[0m\u001b[0;34m\u001b[0m\u001b[0;34m\u001b[0m\u001b[0m\n\u001b[0;32m---> 16\u001b[0;31m             \u001b[0mRPsave\u001b[0m\u001b[0;34m(\u001b[0m\u001b[0mdata\u001b[0m\u001b[0;34m,\u001b[0m \u001b[0mlabel\u001b[0m \u001b[0;34m=\u001b[0m \u001b[0mlabel\u001b[0m \u001b[0;34m+\u001b[0m \u001b[0mstr\u001b[0m\u001b[0;34m(\u001b[0m\u001b[0mi\u001b[0m\u001b[0;34m)\u001b[0m\u001b[0;34m+\u001b[0m\u001b[0;34m\"_\"\u001b[0m\u001b[0;34m+\u001b[0m\u001b[0mstr\u001b[0m\u001b[0;34m(\u001b[0m\u001b[0mj\u001b[0m\u001b[0;34m)\u001b[0m\u001b[0;34m)\u001b[0m\u001b[0;34m\u001b[0m\u001b[0;34m\u001b[0m\u001b[0m\n\u001b[0m\u001b[1;32m     17\u001b[0m         \u001b[0mRPsave\u001b[0m\u001b[0;34m(\u001b[0m\u001b[0mcolumn_data\u001b[0m\u001b[0;34m[\u001b[0m\u001b[0msection\u001b[0m\u001b[0;34m*\u001b[0m\u001b[0mlimit\u001b[0m\u001b[0;34m:\u001b[0m\u001b[0;34m]\u001b[0m\u001b[0;34m,\u001b[0m \u001b[0mlabel\u001b[0m \u001b[0;34m=\u001b[0m \u001b[0mlabel\u001b[0m \u001b[0;34m+\u001b[0m\u001b[0;34m\"_rem\"\u001b[0m\u001b[0;34m)\u001b[0m\u001b[0;34m\u001b[0m\u001b[0;34m\u001b[0m\u001b[0m\n\u001b[1;32m     18\u001b[0m     \u001b[0;32melse\u001b[0m\u001b[0;34m:\u001b[0m\u001b[0;34m\u001b[0m\u001b[0;34m\u001b[0m\u001b[0m\n",
      "\u001b[0;32m<ipython-input-15-32ef6a1415ec>\u001b[0m in \u001b[0;36mRPsave\u001b[0;34m(data, limit, window, avg, label)\u001b[0m\n\u001b[1;32m     29\u001b[0m     \u001b[0;32melse\u001b[0m\u001b[0;34m:\u001b[0m\u001b[0;34m\u001b[0m\u001b[0;34m\u001b[0m\u001b[0m\n\u001b[1;32m     30\u001b[0m         \u001b[0mX_rp\u001b[0m \u001b[0;34m=\u001b[0m \u001b[0mrp\u001b[0m\u001b[0;34m.\u001b[0m\u001b[0mfit_transform\u001b[0m\u001b[0;34m(\u001b[0m\u001b[0mdata\u001b[0m\u001b[0;34m.\u001b[0m\u001b[0mvalues\u001b[0m\u001b[0;34m.\u001b[0m\u001b[0mreshape\u001b[0m\u001b[0;34m(\u001b[0m\u001b[0;36m1\u001b[0m\u001b[0;34m,\u001b[0m \u001b[0;34m-\u001b[0m\u001b[0;36m1\u001b[0m\u001b[0;34m)\u001b[0m\u001b[0;34m)\u001b[0m\u001b[0;34m\u001b[0m\u001b[0;34m\u001b[0m\u001b[0m\n\u001b[0;32m---> 31\u001b[0;31m         \u001b[0mplt\u001b[0m\u001b[0;34m.\u001b[0m\u001b[0mimsave\u001b[0m\u001b[0;34m(\u001b[0m\u001b[0mlabel\u001b[0m\u001b[0;34m,\u001b[0m \u001b[0mX_rp\u001b[0m\u001b[0;34m[\u001b[0m\u001b[0;36m0\u001b[0m\u001b[0;34m]\u001b[0m\u001b[0;34m,\u001b[0m \u001b[0morigin\u001b[0m\u001b[0;34m=\u001b[0m\u001b[0;34m'lower'\u001b[0m\u001b[0;34m)\u001b[0m\u001b[0;34m\u001b[0m\u001b[0;34m\u001b[0m\u001b[0m\n\u001b[0m",
      "\u001b[0;32m~/anaconda3/envs/thesisv1/lib/python3.6/site-packages/matplotlib/pyplot.py\u001b[0m in \u001b[0;36mimsave\u001b[0;34m(fname, arr, **kwargs)\u001b[0m\n\u001b[1;32m   2155\u001b[0m \u001b[0;34m@\u001b[0m\u001b[0mdocstring\u001b[0m\u001b[0;34m.\u001b[0m\u001b[0mcopy_dedent\u001b[0m\u001b[0;34m(\u001b[0m\u001b[0mmatplotlib\u001b[0m\u001b[0;34m.\u001b[0m\u001b[0mimage\u001b[0m\u001b[0;34m.\u001b[0m\u001b[0mimsave\u001b[0m\u001b[0;34m)\u001b[0m\u001b[0;34m\u001b[0m\u001b[0;34m\u001b[0m\u001b[0m\n\u001b[1;32m   2156\u001b[0m \u001b[0;32mdef\u001b[0m \u001b[0mimsave\u001b[0m\u001b[0;34m(\u001b[0m\u001b[0mfname\u001b[0m\u001b[0;34m,\u001b[0m \u001b[0marr\u001b[0m\u001b[0;34m,\u001b[0m \u001b[0;34m**\u001b[0m\u001b[0mkwargs\u001b[0m\u001b[0;34m)\u001b[0m\u001b[0;34m:\u001b[0m\u001b[0;34m\u001b[0m\u001b[0;34m\u001b[0m\u001b[0m\n\u001b[0;32m-> 2157\u001b[0;31m     \u001b[0;32mreturn\u001b[0m \u001b[0mmatplotlib\u001b[0m\u001b[0;34m.\u001b[0m\u001b[0mimage\u001b[0m\u001b[0;34m.\u001b[0m\u001b[0mimsave\u001b[0m\u001b[0;34m(\u001b[0m\u001b[0mfname\u001b[0m\u001b[0;34m,\u001b[0m \u001b[0marr\u001b[0m\u001b[0;34m,\u001b[0m \u001b[0;34m**\u001b[0m\u001b[0mkwargs\u001b[0m\u001b[0;34m)\u001b[0m\u001b[0;34m\u001b[0m\u001b[0;34m\u001b[0m\u001b[0m\n\u001b[0m\u001b[1;32m   2158\u001b[0m \u001b[0;34m\u001b[0m\u001b[0m\n\u001b[1;32m   2159\u001b[0m \u001b[0;34m\u001b[0m\u001b[0m\n",
      "\u001b[0;32m~/anaconda3/envs/thesisv1/lib/python3.6/site-packages/matplotlib/image.py\u001b[0m in \u001b[0;36mimsave\u001b[0;34m(fname, arr, vmin, vmax, cmap, format, origin, dpi)\u001b[0m\n\u001b[1;32m   1432\u001b[0m         fig.figimage(arr, cmap=cmap, vmin=vmin, vmax=vmax, origin=origin,\n\u001b[1;32m   1433\u001b[0m                      resize=True)\n\u001b[0;32m-> 1434\u001b[0;31m         \u001b[0mfig\u001b[0m\u001b[0;34m.\u001b[0m\u001b[0msavefig\u001b[0m\u001b[0;34m(\u001b[0m\u001b[0mfname\u001b[0m\u001b[0;34m,\u001b[0m \u001b[0mdpi\u001b[0m\u001b[0;34m=\u001b[0m\u001b[0mdpi\u001b[0m\u001b[0;34m,\u001b[0m \u001b[0mformat\u001b[0m\u001b[0;34m=\u001b[0m\u001b[0mformat\u001b[0m\u001b[0;34m,\u001b[0m \u001b[0mtransparent\u001b[0m\u001b[0;34m=\u001b[0m\u001b[0;32mTrue\u001b[0m\u001b[0;34m)\u001b[0m\u001b[0;34m\u001b[0m\u001b[0;34m\u001b[0m\u001b[0m\n\u001b[0m\u001b[1;32m   1435\u001b[0m \u001b[0;34m\u001b[0m\u001b[0m\n\u001b[1;32m   1436\u001b[0m \u001b[0;34m\u001b[0m\u001b[0m\n",
      "\u001b[0;32m~/anaconda3/envs/thesisv1/lib/python3.6/site-packages/matplotlib/figure.py\u001b[0m in \u001b[0;36msavefig\u001b[0;34m(self, fname, frameon, transparent, **kwargs)\u001b[0m\n\u001b[1;32m   2092\u001b[0m             \u001b[0mself\u001b[0m\u001b[0;34m.\u001b[0m\u001b[0mset_frameon\u001b[0m\u001b[0;34m(\u001b[0m\u001b[0mframeon\u001b[0m\u001b[0;34m)\u001b[0m\u001b[0;34m\u001b[0m\u001b[0;34m\u001b[0m\u001b[0m\n\u001b[1;32m   2093\u001b[0m \u001b[0;34m\u001b[0m\u001b[0m\n\u001b[0;32m-> 2094\u001b[0;31m         \u001b[0mself\u001b[0m\u001b[0;34m.\u001b[0m\u001b[0mcanvas\u001b[0m\u001b[0;34m.\u001b[0m\u001b[0mprint_figure\u001b[0m\u001b[0;34m(\u001b[0m\u001b[0mfname\u001b[0m\u001b[0;34m,\u001b[0m \u001b[0;34m**\u001b[0m\u001b[0mkwargs\u001b[0m\u001b[0;34m)\u001b[0m\u001b[0;34m\u001b[0m\u001b[0;34m\u001b[0m\u001b[0m\n\u001b[0m\u001b[1;32m   2095\u001b[0m \u001b[0;34m\u001b[0m\u001b[0m\n\u001b[1;32m   2096\u001b[0m         \u001b[0;32mif\u001b[0m \u001b[0mframeon\u001b[0m\u001b[0;34m:\u001b[0m\u001b[0;34m\u001b[0m\u001b[0;34m\u001b[0m\u001b[0m\n",
      "\u001b[0;32m~/anaconda3/envs/thesisv1/lib/python3.6/site-packages/matplotlib/backend_bases.py\u001b[0m in \u001b[0;36mprint_figure\u001b[0;34m(self, filename, dpi, facecolor, edgecolor, orientation, format, bbox_inches, **kwargs)\u001b[0m\n\u001b[1;32m   2073\u001b[0m                     \u001b[0morientation\u001b[0m\u001b[0;34m=\u001b[0m\u001b[0morientation\u001b[0m\u001b[0;34m,\u001b[0m\u001b[0;34m\u001b[0m\u001b[0;34m\u001b[0m\u001b[0m\n\u001b[1;32m   2074\u001b[0m                     \u001b[0mbbox_inches_restore\u001b[0m\u001b[0;34m=\u001b[0m\u001b[0m_bbox_inches_restore\u001b[0m\u001b[0;34m,\u001b[0m\u001b[0;34m\u001b[0m\u001b[0;34m\u001b[0m\u001b[0m\n\u001b[0;32m-> 2075\u001b[0;31m                     **kwargs)\n\u001b[0m\u001b[1;32m   2076\u001b[0m             \u001b[0;32mfinally\u001b[0m\u001b[0;34m:\u001b[0m\u001b[0;34m\u001b[0m\u001b[0;34m\u001b[0m\u001b[0m\n\u001b[1;32m   2077\u001b[0m                 \u001b[0;32mif\u001b[0m \u001b[0mbbox_inches\u001b[0m \u001b[0;32mand\u001b[0m \u001b[0mrestore_bbox\u001b[0m\u001b[0;34m:\u001b[0m\u001b[0;34m\u001b[0m\u001b[0;34m\u001b[0m\u001b[0m\n",
      "\u001b[0;32m~/anaconda3/envs/thesisv1/lib/python3.6/site-packages/matplotlib/backends/backend_agg.py\u001b[0m in \u001b[0;36mprint_png\u001b[0;34m(self, filename_or_obj, *args, **kwargs)\u001b[0m\n\u001b[1;32m    508\u001b[0m \u001b[0;34m\u001b[0m\u001b[0m\n\u001b[1;32m    509\u001b[0m         \"\"\"\n\u001b[0;32m--> 510\u001b[0;31m         \u001b[0mFigureCanvasAgg\u001b[0m\u001b[0;34m.\u001b[0m\u001b[0mdraw\u001b[0m\u001b[0;34m(\u001b[0m\u001b[0mself\u001b[0m\u001b[0;34m)\u001b[0m\u001b[0;34m\u001b[0m\u001b[0;34m\u001b[0m\u001b[0m\n\u001b[0m\u001b[1;32m    511\u001b[0m         \u001b[0mrenderer\u001b[0m \u001b[0;34m=\u001b[0m \u001b[0mself\u001b[0m\u001b[0;34m.\u001b[0m\u001b[0mget_renderer\u001b[0m\u001b[0;34m(\u001b[0m\u001b[0;34m)\u001b[0m\u001b[0;34m\u001b[0m\u001b[0;34m\u001b[0m\u001b[0m\n\u001b[1;32m    512\u001b[0m \u001b[0;34m\u001b[0m\u001b[0m\n",
      "\u001b[0;32m~/anaconda3/envs/thesisv1/lib/python3.6/site-packages/matplotlib/backends/backend_agg.py\u001b[0m in \u001b[0;36mdraw\u001b[0;34m(self)\u001b[0m\n\u001b[1;32m    400\u001b[0m         \u001b[0mtoolbar\u001b[0m \u001b[0;34m=\u001b[0m \u001b[0mself\u001b[0m\u001b[0;34m.\u001b[0m\u001b[0mtoolbar\u001b[0m\u001b[0;34m\u001b[0m\u001b[0;34m\u001b[0m\u001b[0m\n\u001b[1;32m    401\u001b[0m         \u001b[0;32mtry\u001b[0m\u001b[0;34m:\u001b[0m\u001b[0;34m\u001b[0m\u001b[0;34m\u001b[0m\u001b[0m\n\u001b[0;32m--> 402\u001b[0;31m             \u001b[0mself\u001b[0m\u001b[0;34m.\u001b[0m\u001b[0mfigure\u001b[0m\u001b[0;34m.\u001b[0m\u001b[0mdraw\u001b[0m\u001b[0;34m(\u001b[0m\u001b[0mself\u001b[0m\u001b[0;34m.\u001b[0m\u001b[0mrenderer\u001b[0m\u001b[0;34m)\u001b[0m\u001b[0;34m\u001b[0m\u001b[0;34m\u001b[0m\u001b[0m\n\u001b[0m\u001b[1;32m    403\u001b[0m             \u001b[0;31m# A GUI class may be need to update a window using this draw, so\u001b[0m\u001b[0;34m\u001b[0m\u001b[0;34m\u001b[0m\u001b[0;34m\u001b[0m\u001b[0m\n\u001b[1;32m    404\u001b[0m             \u001b[0;31m# don't forget to call the superclass.\u001b[0m\u001b[0;34m\u001b[0m\u001b[0;34m\u001b[0m\u001b[0;34m\u001b[0m\u001b[0m\n",
      "\u001b[0;32m~/anaconda3/envs/thesisv1/lib/python3.6/site-packages/matplotlib/artist.py\u001b[0m in \u001b[0;36mdraw_wrapper\u001b[0;34m(artist, renderer, *args, **kwargs)\u001b[0m\n\u001b[1;32m     48\u001b[0m                 \u001b[0mrenderer\u001b[0m\u001b[0;34m.\u001b[0m\u001b[0mstart_filter\u001b[0m\u001b[0;34m(\u001b[0m\u001b[0;34m)\u001b[0m\u001b[0;34m\u001b[0m\u001b[0;34m\u001b[0m\u001b[0m\n\u001b[1;32m     49\u001b[0m \u001b[0;34m\u001b[0m\u001b[0m\n\u001b[0;32m---> 50\u001b[0;31m             \u001b[0;32mreturn\u001b[0m \u001b[0mdraw\u001b[0m\u001b[0;34m(\u001b[0m\u001b[0martist\u001b[0m\u001b[0;34m,\u001b[0m \u001b[0mrenderer\u001b[0m\u001b[0;34m,\u001b[0m \u001b[0;34m*\u001b[0m\u001b[0margs\u001b[0m\u001b[0;34m,\u001b[0m \u001b[0;34m**\u001b[0m\u001b[0mkwargs\u001b[0m\u001b[0;34m)\u001b[0m\u001b[0;34m\u001b[0m\u001b[0;34m\u001b[0m\u001b[0m\n\u001b[0m\u001b[1;32m     51\u001b[0m         \u001b[0;32mfinally\u001b[0m\u001b[0;34m:\u001b[0m\u001b[0;34m\u001b[0m\u001b[0;34m\u001b[0m\u001b[0m\n\u001b[1;32m     52\u001b[0m             \u001b[0;32mif\u001b[0m \u001b[0martist\u001b[0m\u001b[0;34m.\u001b[0m\u001b[0mget_agg_filter\u001b[0m\u001b[0;34m(\u001b[0m\u001b[0;34m)\u001b[0m \u001b[0;32mis\u001b[0m \u001b[0;32mnot\u001b[0m \u001b[0;32mNone\u001b[0m\u001b[0;34m:\u001b[0m\u001b[0;34m\u001b[0m\u001b[0;34m\u001b[0m\u001b[0m\n",
      "\u001b[0;32m~/anaconda3/envs/thesisv1/lib/python3.6/site-packages/matplotlib/figure.py\u001b[0m in \u001b[0;36mdraw\u001b[0;34m(self, renderer)\u001b[0m\n\u001b[1;32m   1647\u001b[0m \u001b[0;34m\u001b[0m\u001b[0m\n\u001b[1;32m   1648\u001b[0m             mimage._draw_list_compositing_images(\n\u001b[0;32m-> 1649\u001b[0;31m                 renderer, self, artists, self.suppressComposite)\n\u001b[0m\u001b[1;32m   1650\u001b[0m \u001b[0;34m\u001b[0m\u001b[0m\n\u001b[1;32m   1651\u001b[0m             \u001b[0mrenderer\u001b[0m\u001b[0;34m.\u001b[0m\u001b[0mclose_group\u001b[0m\u001b[0;34m(\u001b[0m\u001b[0;34m'figure'\u001b[0m\u001b[0;34m)\u001b[0m\u001b[0;34m\u001b[0m\u001b[0;34m\u001b[0m\u001b[0m\n",
      "\u001b[0;32m~/anaconda3/envs/thesisv1/lib/python3.6/site-packages/matplotlib/image.py\u001b[0m in \u001b[0;36m_draw_list_compositing_images\u001b[0;34m(renderer, parent, artists, suppress_composite)\u001b[0m\n\u001b[1;32m    136\u001b[0m     \u001b[0;32mif\u001b[0m \u001b[0mnot_composite\u001b[0m \u001b[0;32mor\u001b[0m \u001b[0;32mnot\u001b[0m \u001b[0mhas_images\u001b[0m\u001b[0;34m:\u001b[0m\u001b[0;34m\u001b[0m\u001b[0;34m\u001b[0m\u001b[0m\n\u001b[1;32m    137\u001b[0m         \u001b[0;32mfor\u001b[0m \u001b[0ma\u001b[0m \u001b[0;32min\u001b[0m \u001b[0martists\u001b[0m\u001b[0;34m:\u001b[0m\u001b[0;34m\u001b[0m\u001b[0;34m\u001b[0m\u001b[0m\n\u001b[0;32m--> 138\u001b[0;31m             \u001b[0ma\u001b[0m\u001b[0;34m.\u001b[0m\u001b[0mdraw\u001b[0m\u001b[0;34m(\u001b[0m\u001b[0mrenderer\u001b[0m\u001b[0;34m)\u001b[0m\u001b[0;34m\u001b[0m\u001b[0;34m\u001b[0m\u001b[0m\n\u001b[0m\u001b[1;32m    139\u001b[0m     \u001b[0;32melse\u001b[0m\u001b[0;34m:\u001b[0m\u001b[0;34m\u001b[0m\u001b[0;34m\u001b[0m\u001b[0m\n\u001b[1;32m    140\u001b[0m         \u001b[0;31m# Composite any adjacent images together\u001b[0m\u001b[0;34m\u001b[0m\u001b[0;34m\u001b[0m\u001b[0;34m\u001b[0m\u001b[0m\n",
      "\u001b[0;32m~/anaconda3/envs/thesisv1/lib/python3.6/site-packages/matplotlib/artist.py\u001b[0m in \u001b[0;36mdraw_wrapper\u001b[0;34m(artist, renderer, *args, **kwargs)\u001b[0m\n\u001b[1;32m     48\u001b[0m                 \u001b[0mrenderer\u001b[0m\u001b[0;34m.\u001b[0m\u001b[0mstart_filter\u001b[0m\u001b[0;34m(\u001b[0m\u001b[0;34m)\u001b[0m\u001b[0;34m\u001b[0m\u001b[0;34m\u001b[0m\u001b[0m\n\u001b[1;32m     49\u001b[0m \u001b[0;34m\u001b[0m\u001b[0m\n\u001b[0;32m---> 50\u001b[0;31m             \u001b[0;32mreturn\u001b[0m \u001b[0mdraw\u001b[0m\u001b[0;34m(\u001b[0m\u001b[0martist\u001b[0m\u001b[0;34m,\u001b[0m \u001b[0mrenderer\u001b[0m\u001b[0;34m,\u001b[0m \u001b[0;34m*\u001b[0m\u001b[0margs\u001b[0m\u001b[0;34m,\u001b[0m \u001b[0;34m**\u001b[0m\u001b[0mkwargs\u001b[0m\u001b[0;34m)\u001b[0m\u001b[0;34m\u001b[0m\u001b[0;34m\u001b[0m\u001b[0m\n\u001b[0m\u001b[1;32m     51\u001b[0m         \u001b[0;32mfinally\u001b[0m\u001b[0;34m:\u001b[0m\u001b[0;34m\u001b[0m\u001b[0;34m\u001b[0m\u001b[0m\n\u001b[1;32m     52\u001b[0m             \u001b[0;32mif\u001b[0m \u001b[0martist\u001b[0m\u001b[0;34m.\u001b[0m\u001b[0mget_agg_filter\u001b[0m\u001b[0;34m(\u001b[0m\u001b[0;34m)\u001b[0m \u001b[0;32mis\u001b[0m \u001b[0;32mnot\u001b[0m \u001b[0;32mNone\u001b[0m\u001b[0;34m:\u001b[0m\u001b[0;34m\u001b[0m\u001b[0;34m\u001b[0m\u001b[0m\n",
      "\u001b[0;32m~/anaconda3/envs/thesisv1/lib/python3.6/site-packages/matplotlib/image.py\u001b[0m in \u001b[0;36mdraw\u001b[0;34m(self, renderer, *args, **kwargs)\u001b[0m\n\u001b[1;32m    582\u001b[0m         \u001b[0;32melse\u001b[0m\u001b[0;34m:\u001b[0m\u001b[0;34m\u001b[0m\u001b[0;34m\u001b[0m\u001b[0m\n\u001b[1;32m    583\u001b[0m             im, l, b, trans = self.make_image(\n\u001b[0;32m--> 584\u001b[0;31m                 renderer, renderer.get_image_magnification())\n\u001b[0m\u001b[1;32m    585\u001b[0m             \u001b[0;32mif\u001b[0m \u001b[0mim\u001b[0m \u001b[0;32mis\u001b[0m \u001b[0;32mnot\u001b[0m \u001b[0;32mNone\u001b[0m\u001b[0;34m:\u001b[0m\u001b[0;34m\u001b[0m\u001b[0;34m\u001b[0m\u001b[0m\n\u001b[1;32m    586\u001b[0m                 \u001b[0mrenderer\u001b[0m\u001b[0;34m.\u001b[0m\u001b[0mdraw_image\u001b[0m\u001b[0;34m(\u001b[0m\u001b[0mgc\u001b[0m\u001b[0;34m,\u001b[0m \u001b[0ml\u001b[0m\u001b[0;34m,\u001b[0m \u001b[0mb\u001b[0m\u001b[0;34m,\u001b[0m \u001b[0mim\u001b[0m\u001b[0;34m)\u001b[0m\u001b[0;34m\u001b[0m\u001b[0;34m\u001b[0m\u001b[0m\n",
      "\u001b[0;32m~/anaconda3/envs/thesisv1/lib/python3.6/site-packages/matplotlib/image.py\u001b[0m in \u001b[0;36mmake_image\u001b[0;34m(self, renderer, magnification, unsampled)\u001b[0m\n\u001b[1;32m   1205\u001b[0m         return self._make_image(\n\u001b[1;32m   1206\u001b[0m             \u001b[0mself\u001b[0m\u001b[0;34m.\u001b[0m\u001b[0m_A\u001b[0m\u001b[0;34m,\u001b[0m \u001b[0mbbox\u001b[0m\u001b[0;34m,\u001b[0m \u001b[0mbbox\u001b[0m\u001b[0;34m,\u001b[0m \u001b[0mclip\u001b[0m\u001b[0;34m,\u001b[0m \u001b[0mmagnification\u001b[0m\u001b[0;34m=\u001b[0m\u001b[0mmagnification\u001b[0m \u001b[0;34m/\u001b[0m \u001b[0mfac\u001b[0m\u001b[0;34m,\u001b[0m\u001b[0;34m\u001b[0m\u001b[0;34m\u001b[0m\u001b[0m\n\u001b[0;32m-> 1207\u001b[0;31m             unsampled=unsampled, round_to_pixel_border=False)\n\u001b[0m\u001b[1;32m   1208\u001b[0m \u001b[0;34m\u001b[0m\u001b[0m\n\u001b[1;32m   1209\u001b[0m     \u001b[0;32mdef\u001b[0m \u001b[0mset_data\u001b[0m\u001b[0;34m(\u001b[0m\u001b[0mself\u001b[0m\u001b[0;34m,\u001b[0m \u001b[0mA\u001b[0m\u001b[0;34m)\u001b[0m\u001b[0;34m:\u001b[0m\u001b[0;34m\u001b[0m\u001b[0;34m\u001b[0m\u001b[0m\n",
      "\u001b[0;32m~/anaconda3/envs/thesisv1/lib/python3.6/site-packages/matplotlib/image.py\u001b[0m in \u001b[0;36m_make_image\u001b[0;34m(self, A, in_bbox, out_bbox, clip_bbox, magnification, unsampled, round_to_pixel_border)\u001b[0m\n\u001b[1;32m    500\u001b[0m             \u001b[0;31m# (of int or float)\u001b[0m\u001b[0;34m\u001b[0m\u001b[0;34m\u001b[0m\u001b[0;34m\u001b[0m\u001b[0m\n\u001b[1;32m    501\u001b[0m             \u001b[0;31m# or an RGBA array of re-sampled input\u001b[0m\u001b[0;34m\u001b[0m\u001b[0;34m\u001b[0m\u001b[0;34m\u001b[0m\u001b[0m\n\u001b[0;32m--> 502\u001b[0;31m             \u001b[0moutput\u001b[0m \u001b[0;34m=\u001b[0m \u001b[0mself\u001b[0m\u001b[0;34m.\u001b[0m\u001b[0mto_rgba\u001b[0m\u001b[0;34m(\u001b[0m\u001b[0moutput\u001b[0m\u001b[0;34m,\u001b[0m \u001b[0mbytes\u001b[0m\u001b[0;34m=\u001b[0m\u001b[0;32mTrue\u001b[0m\u001b[0;34m,\u001b[0m \u001b[0mnorm\u001b[0m\u001b[0;34m=\u001b[0m\u001b[0;32mFalse\u001b[0m\u001b[0;34m)\u001b[0m\u001b[0;34m\u001b[0m\u001b[0;34m\u001b[0m\u001b[0m\n\u001b[0m\u001b[1;32m    503\u001b[0m             \u001b[0;31m# output is now a correctly sized RGBA array of uint8\u001b[0m\u001b[0;34m\u001b[0m\u001b[0;34m\u001b[0m\u001b[0;34m\u001b[0m\u001b[0m\n\u001b[1;32m    504\u001b[0m \u001b[0;34m\u001b[0m\u001b[0m\n",
      "\u001b[0;32m~/anaconda3/envs/thesisv1/lib/python3.6/site-packages/matplotlib/cm.py\u001b[0m in \u001b[0;36mto_rgba\u001b[0;34m(self, x, alpha, bytes, norm)\u001b[0m\n\u001b[1;32m    287\u001b[0m         \u001b[0;32mif\u001b[0m \u001b[0mnorm\u001b[0m\u001b[0;34m:\u001b[0m\u001b[0;34m\u001b[0m\u001b[0;34m\u001b[0m\u001b[0m\n\u001b[1;32m    288\u001b[0m             \u001b[0mx\u001b[0m \u001b[0;34m=\u001b[0m \u001b[0mself\u001b[0m\u001b[0;34m.\u001b[0m\u001b[0mnorm\u001b[0m\u001b[0;34m(\u001b[0m\u001b[0mx\u001b[0m\u001b[0;34m)\u001b[0m\u001b[0;34m\u001b[0m\u001b[0;34m\u001b[0m\u001b[0m\n\u001b[0;32m--> 289\u001b[0;31m         \u001b[0mrgba\u001b[0m \u001b[0;34m=\u001b[0m \u001b[0mself\u001b[0m\u001b[0;34m.\u001b[0m\u001b[0mcmap\u001b[0m\u001b[0;34m(\u001b[0m\u001b[0mx\u001b[0m\u001b[0;34m,\u001b[0m \u001b[0malpha\u001b[0m\u001b[0;34m=\u001b[0m\u001b[0malpha\u001b[0m\u001b[0;34m,\u001b[0m \u001b[0mbytes\u001b[0m\u001b[0;34m=\u001b[0m\u001b[0mbytes\u001b[0m\u001b[0;34m)\u001b[0m\u001b[0;34m\u001b[0m\u001b[0;34m\u001b[0m\u001b[0m\n\u001b[0m\u001b[1;32m    290\u001b[0m         \u001b[0;32mreturn\u001b[0m \u001b[0mrgba\u001b[0m\u001b[0;34m\u001b[0m\u001b[0;34m\u001b[0m\u001b[0m\n\u001b[1;32m    291\u001b[0m \u001b[0;34m\u001b[0m\u001b[0m\n",
      "\u001b[0;32m~/anaconda3/envs/thesisv1/lib/python3.6/site-packages/matplotlib/colors.py\u001b[0m in \u001b[0;36m__call__\u001b[0;34m(self, X, alpha, bytes)\u001b[0m\n\u001b[1;32m    512\u001b[0m             \u001b[0mxa\u001b[0m\u001b[0;34m[\u001b[0m\u001b[0mxa\u001b[0m \u001b[0;34m<\u001b[0m \u001b[0;36m0\u001b[0m\u001b[0;34m]\u001b[0m \u001b[0;34m=\u001b[0m \u001b[0;34m-\u001b[0m\u001b[0;36m1\u001b[0m\u001b[0;34m\u001b[0m\u001b[0;34m\u001b[0m\u001b[0m\n\u001b[1;32m    513\u001b[0m             \u001b[0;31m# xa == 1 (== N after multiplication) is not out of range.\u001b[0m\u001b[0;34m\u001b[0m\u001b[0;34m\u001b[0m\u001b[0;34m\u001b[0m\u001b[0m\n\u001b[0;32m--> 514\u001b[0;31m             \u001b[0mxa\u001b[0m\u001b[0;34m[\u001b[0m\u001b[0mxa\u001b[0m \u001b[0;34m==\u001b[0m \u001b[0mself\u001b[0m\u001b[0;34m.\u001b[0m\u001b[0mN\u001b[0m\u001b[0;34m]\u001b[0m \u001b[0;34m=\u001b[0m \u001b[0mself\u001b[0m\u001b[0;34m.\u001b[0m\u001b[0mN\u001b[0m \u001b[0;34m-\u001b[0m \u001b[0;36m1\u001b[0m\u001b[0;34m\u001b[0m\u001b[0;34m\u001b[0m\u001b[0m\n\u001b[0m\u001b[1;32m    515\u001b[0m             \u001b[0;31m# Avoid converting large positive values to negative integers.\u001b[0m\u001b[0;34m\u001b[0m\u001b[0;34m\u001b[0m\u001b[0;34m\u001b[0m\u001b[0m\n\u001b[1;32m    516\u001b[0m             \u001b[0mnp\u001b[0m\u001b[0;34m.\u001b[0m\u001b[0mclip\u001b[0m\u001b[0;34m(\u001b[0m\u001b[0mxa\u001b[0m\u001b[0;34m,\u001b[0m \u001b[0;34m-\u001b[0m\u001b[0;36m1\u001b[0m\u001b[0;34m,\u001b[0m \u001b[0mself\u001b[0m\u001b[0;34m.\u001b[0m\u001b[0mN\u001b[0m\u001b[0;34m,\u001b[0m \u001b[0mout\u001b[0m\u001b[0;34m=\u001b[0m\u001b[0mxa\u001b[0m\u001b[0;34m)\u001b[0m\u001b[0;34m\u001b[0m\u001b[0;34m\u001b[0m\u001b[0m\n",
      "\u001b[0;31mKeyboardInterrupt\u001b[0m: "
     ]
    }
   ],
   "source": [
    "create_data(df_fog)"
   ]
  },
  {
   "cell_type": "code",
   "execution_count": 12,
   "metadata": {},
   "outputs": [],
   "source": [
    "import cv2 \n",
    "import os \n",
    "import numpy as np \n",
    "from random import shuffle \n",
    "from tqdm import tqdm\n",
    "import tflearn \n",
    "from tflearn.layers.conv import conv_2d, max_pool_2d \n",
    "from tflearn.layers.core import input_data, dropout, fully_connected \n",
    "from tflearn.layers.estimator import regression \n",
    "from sklearn.metrics import confusion_matrix"
   ]
  },
  {
   "cell_type": "code",
   "execution_count": 1,
   "metadata": {},
   "outputs": [],
   "source": [
    "fog1_path = \"/home/aniketh/Documents/fog-parkinsons/rps/120s/fog\"\n",
    "non_fog_path = \"/home/aniketh/Documents/fog-parkinsons/rps/120s/non_fog\"\n",
    "\n",
    "data = []\n",
    "labels = []\n",
    "IMG_SIZE = 100\n",
    "\n",
    "def create_train_data(): \n",
    "    \n",
    "    for img in tqdm(os.listdir(non_fog_path)): \n",
    "\n",
    "        path = os.path.join(non_fog_path, img) \n",
    "\n",
    "        # loading the image from the path and then converting them into \n",
    "        # greyscale for easier covnet prob \n",
    "        img = cv2.imread(path) \n",
    "\n",
    "        # resizing the image for processing them in the covnet \n",
    "        img = cv2.resize(img, (IMG_SIZE, IMG_SIZE)) \n",
    "        \n",
    "        img = np.array(img)/255.0\n",
    "        \n",
    "        img = img - np.mean(img)\n",
    "\n",
    "        # final step-forming the training data list with numpy array of the images \n",
    "        data.append(img)\n",
    "        labels.append(0)\n",
    "\n",
    "    for img in tqdm(os.listdir(fog1_path)): \n",
    "\n",
    "        path = os.path.join(fog1_path, img) \n",
    "\n",
    "        # loading the image from the path and then converting them into \n",
    "        # greyscale for easier covnet prob \n",
    "        img = cv2.imread(path) \n",
    "\n",
    "        # resizing the image for processing them in the covnet \n",
    "        img = cv2.resize(img, (IMG_SIZE, IMG_SIZE)) \n",
    "        \n",
    "        img = np.array(img)/255.0\n",
    "        \n",
    "        img = img - np.mean(img)\n",
    "\n",
    "        # final step-forming the training data list with numpy array of the images \n",
    "        data.append(img)\n",
    "        labels.append(1)\n",
    "\n",
    "   \n",
    "\n",
    "\n",
    "    # shuffling of the training data to preserve the random state of our data \n",
    "    os.chdir(\"/home/aniketh/Documents/fog-parkinsons\") \n",
    "    np.save(\"data_all_120s.npy\", data)\n",
    "    np.save(\"labels_all_120s.npy\", labels)"
   ]
  },
  {
   "cell_type": "code",
   "execution_count": 5,
   "metadata": {},
   "outputs": [],
   "source": [
    "data_np = np.array(data)\n",
    "labels_np = np.array(labels)"
   ]
  },
  {
   "cell_type": "code",
   "execution_count": 6,
   "metadata": {},
   "outputs": [
    {
     "data": {
      "text/plain": [
       "4398"
      ]
     },
     "execution_count": 6,
     "metadata": {},
     "output_type": "execute_result"
    }
   ],
   "source": [
    "len(data)"
   ]
  },
  {
   "cell_type": "code",
   "execution_count": 3,
   "metadata": {},
   "outputs": [
    {
     "name": "stderr",
     "output_type": "stream",
     "text": [
      "100%|██████████| 2237/2237 [08:28<00:00,  4.22it/s]\n",
      "100%|██████████| 2161/2161 [06:46<00:00,  5.08it/s]\n"
     ]
    }
   ],
   "source": [
    "create_train_data()"
   ]
  },
  {
   "cell_type": "code",
   "execution_count": 119,
   "metadata": {},
   "outputs": [
    {
     "ename": "AttributeError",
     "evalue": "'numpy.ndarray' object has no attribute 'append'",
     "output_type": "error",
     "traceback": [
      "\u001b[0;31m---------------------------------------------------------------------------\u001b[0m",
      "\u001b[0;31mAttributeError\u001b[0m                            Traceback (most recent call last)",
      "\u001b[0;32m<ipython-input-119-cd42a39e538b>\u001b[0m in \u001b[0;36m<module>\u001b[0;34m\u001b[0m\n\u001b[1;32m      1\u001b[0m \u001b[0ma\u001b[0m \u001b[0;34m=\u001b[0m \u001b[0mnp\u001b[0m\u001b[0;34m.\u001b[0m\u001b[0marray\u001b[0m\u001b[0;34m(\u001b[0m\u001b[0;34m[\u001b[0m\u001b[0;34m]\u001b[0m\u001b[0;34m)\u001b[0m\u001b[0;34m\u001b[0m\u001b[0;34m\u001b[0m\u001b[0m\n\u001b[0;32m----> 2\u001b[0;31m \u001b[0ma\u001b[0m\u001b[0;34m.\u001b[0m\u001b[0mappend\u001b[0m\u001b[0;34m(\u001b[0m\u001b[0;36m1\u001b[0m\u001b[0;34m)\u001b[0m\u001b[0;34m\u001b[0m\u001b[0;34m\u001b[0m\u001b[0m\n\u001b[0m",
      "\u001b[0;31mAttributeError\u001b[0m: 'numpy.ndarray' object has no attribute 'append'"
     ]
    }
   ],
   "source": [
    "for i in range(len(data)):\n",
    "    zipped = zip(range(0,10), range(1, 11))\n",
    "    for i, j in zipped:\n",
    "        data = np.array(data[i*100:j*100])"
   ]
  },
  {
   "cell_type": "code",
   "execution_count": 1,
   "metadata": {},
   "outputs": [
    {
     "name": "stderr",
     "output_type": "stream",
     "text": [
      "Using TensorFlow backend.\n"
     ]
    }
   ],
   "source": [
    "from keras import Sequential\n",
    "from keras import models\n",
    "from keras import layers\n",
    "from keras.layers import *\n",
    "from sklearn.model_selection import train_test_split\n",
    "from sklearn.metrics import confusion_matrix\n",
    "data = np.load(\"data_all_120s.npy\")\n",
    "labels = np.load(\"labels_all_120s.npy\")\n",
    "data_np = np.array(data)\n",
    "labels_np = np.array(labels)"
   ]
  },
  {
   "cell_type": "code",
   "execution_count": 2,
   "metadata": {},
   "outputs": [],
   "source": [
    "X_train, X_test, y_train, y_test = train_test_split(data, labels, test_size=0.33, random_state=42)\n",
    "X_train, X_validate, y_train, y_validate = train_test_split( X_train, y_train, test_size=0.33, random_state=2)"
   ]
  },
  {
   "cell_type": "markdown",
   "metadata": {},
   "source": [
    "## 1 layer of convolution - total data"
   ]
  },
  {
   "cell_type": "code",
   "execution_count": 4,
   "metadata": {},
   "outputs": [
    {
     "name": "stdout",
     "output_type": "stream",
     "text": [
      "Train on 1993 samples, validate on 983 samples\n",
      "Epoch 1/5\n",
      "1993/1993 [==============================] - 17s 9ms/step - loss: 0.5848 - acc: 0.7030 - val_loss: 0.4741 - val_acc: 0.7477\n",
      "Epoch 2/5\n",
      "1993/1993 [==============================] - 17s 8ms/step - loss: 0.3537 - acc: 0.8515 - val_loss: 0.3101 - val_acc: 0.8596\n",
      "Epoch 3/5\n",
      "1993/1993 [==============================] - 17s 8ms/step - loss: 0.2002 - acc: 0.9282 - val_loss: 0.1680 - val_acc: 0.9349\n",
      "Epoch 4/5\n",
      "1993/1993 [==============================] - 17s 8ms/step - loss: 0.1065 - acc: 0.9674 - val_loss: 0.1387 - val_acc: 0.9451\n",
      "Epoch 5/5\n",
      "1993/1993 [==============================] - 17s 8ms/step - loss: 0.0510 - acc: 0.9875 - val_loss: 0.1633 - val_acc: 0.9410\n"
     ]
    },
    {
     "data": {
      "text/plain": [
       "<keras.callbacks.History at 0x7fd072f536d8>"
      ]
     },
     "execution_count": 4,
     "metadata": {},
     "output_type": "execute_result"
    }
   ],
   "source": [
    "IMG_SIZE = 100\n",
    "model = Sequential()\n",
    "\n",
    "model.add(Conv2D(filters = 5, kernel_size = (5,5),padding = 'Same', \n",
    "                 activation ='relu', input_shape = (IMG_SIZE,IMG_SIZE,3)))\n",
    "model.add(MaxPool2D(pool_size=(2,2)))\n",
    "model.add(Dropout(0.25))\n",
    "\n",
    "model.add(Flatten())\n",
    "model.add(Dense(100, activation = \"relu\"))\n",
    "model.add(Dropout(0.2))\n",
    "model.add(Dense(50, activation = \"relu\"))\n",
    "model.add(Dropout(0.2))\n",
    "model.add(Dense(1, activation = \"sigmoid\"))\n",
    "\n",
    "model.compile(\n",
    " optimizer = \"adam\",\n",
    " loss = \"binary_crossentropy\",\n",
    " metrics = [\"accuracy\"]\n",
    ")\n",
    "\n",
    "model.fit(x=np.array(X_train), y=np.array(y_train), batch_size=50, epochs=5,\n",
    "          validation_data = (np.array(X_validate), np.array(y_validate)), verbose=1, shuffle=True)"
   ]
  },
  {
   "cell_type": "code",
   "execution_count": 3,
   "metadata": {},
   "outputs": [
    {
     "name": "stdout",
     "output_type": "stream",
     "text": [
      "Epoch 1/1\n",
      "3997/3997 [==============================] - 49s 12ms/step - loss: 0.4210 - acc: 0.7943\n",
      "445/445 [==============================] - 2s 5ms/step\n",
      "0.17767835055589754 0.9438202280676766\n",
      "[[211  13]\n",
      " [ 12 209]]\n",
      "sens and spec is:\n",
      "0.9457013574660633 0.9419642857142857\n",
      "Epoch 1/1\n",
      "3997/3997 [==============================] - 50s 12ms/step - loss: 0.4496 - acc: 0.7788\n",
      "445/445 [==============================] - 2s 5ms/step\n",
      "0.22066571449159822 0.9056179828188392\n",
      "[[219   5]\n",
      " [ 37 184]]\n",
      "sens and spec is:\n",
      "0.832579185520362 0.9776785714285714\n",
      "Epoch 1/1\n",
      "3997/3997 [==============================] - 51s 13ms/step - loss: 0.3831 - acc: 0.8186\n",
      "445/445 [==============================] - 2s 5ms/step\n",
      "0.15106318514856898 0.9303370824690615\n",
      "[[193  31]\n",
      " [  0 221]]\n",
      "sens and spec is:\n",
      "1.0 0.8616071428571429\n",
      "Epoch 1/1\n",
      "3997/3997 [==============================] - 51s 13ms/step - loss: 0.4269 - acc: 0.7951\n",
      "445/445 [==============================] - 2s 5ms/step\n",
      "0.13890610609495924 0.9573033733314342\n",
      "[[219   5]\n",
      " [ 14 207]]\n",
      "sens and spec is:\n",
      "0.9366515837104072 0.9776785714285714\n",
      "Epoch 1/1\n",
      "3997/3997 [==============================] - 51s 13ms/step - loss: 0.3860 - acc: 0.8126\n",
      "445/445 [==============================] - 2s 5ms/step\n",
      "0.11424970403941495 0.9617977550860202\n",
      "[[212  12]\n",
      " [  5 216]]\n",
      "sens and spec is:\n",
      "0.9773755656108597 0.9464285714285714\n",
      "Epoch 1/1\n",
      "3998/3998 [==============================] - 52s 13ms/step - loss: 0.3710 - acc: 0.8169\n",
      "444/444 [==============================] - 2s 5ms/step\n",
      "0.12174904875801813 0.959459461875864\n",
      "[[212  12]\n",
      " [  6 214]]\n",
      "sens and spec is:\n",
      "0.9727272727272728 0.9464285714285714\n",
      "Epoch 1/1\n",
      "3998/3998 [==============================] - 52s 13ms/step - loss: 0.4025 - acc: 0.8077\n",
      "444/444 [==============================] - 2s 5ms/step\n",
      "0.12663737441156675 0.9549549576398488\n",
      "[[207  17]\n",
      " [  3 217]]\n",
      "sens and spec is:\n",
      "0.9863636363636363 0.9241071428571429\n",
      "Epoch 1/1\n",
      "3999/3999 [==============================] - 54s 13ms/step - loss: 0.4221 - acc: 0.7914\n",
      "443/443 [==============================] - 2s 5ms/step\n",
      "0.14277248509526758 0.9616252844543544\n",
      "[[210  13]\n",
      " [  4 216]]\n",
      "sens and spec is:\n",
      "0.9818181818181818 0.9417040358744395\n",
      "Epoch 1/1\n",
      "3999/3999 [==============================] - 55s 14ms/step - loss: 0.3775 - acc: 0.8235\n",
      "443/443 [==============================] - 2s 5ms/step\n",
      "0.11806588246524923 0.9638826206629217\n",
      "[[217   6]\n",
      " [ 10 210]]\n",
      "sens and spec is:\n",
      "0.9545454545454546 0.9730941704035875\n",
      "Epoch 1/1\n",
      "3999/3999 [==============================] - 55s 14ms/step - loss: 0.3969 - acc: 0.8097\n",
      "443/443 [==============================] - 2s 5ms/step\n",
      "0.1692311132230016 0.9525959396200847\n",
      "[[216   7]\n",
      " [ 14 206]]\n",
      "sens and spec is:\n",
      "0.9363636363636364 0.968609865470852\n"
     ]
    },
    {
     "ename": "TypeError",
     "evalue": "mean() missing 1 required positional argument: 'a'",
     "output_type": "error",
     "traceback": [
      "\u001b[0;31m---------------------------------------------------------------------------\u001b[0m",
      "\u001b[0;31mTypeError\u001b[0m                                 Traceback (most recent call last)",
      "\u001b[0;32m<ipython-input-3-cb682eda8d8f>\u001b[0m in \u001b[0;36m<module>\u001b[0;34m\u001b[0m\n\u001b[1;32m     59\u001b[0m     \u001b[0mnp\u001b[0m\u001b[0;34m.\u001b[0m\u001b[0mmean\u001b[0m\u001b[0;34m(\u001b[0m\u001b[0msens_l\u001b[0m\u001b[0;34m)\u001b[0m\u001b[0;34m\u001b[0m\u001b[0;34m\u001b[0m\u001b[0m\n\u001b[1;32m     60\u001b[0m     \u001b[0mspec_l\u001b[0m\u001b[0;34m\u001b[0m\u001b[0;34m\u001b[0m\u001b[0m\n\u001b[0;32m---> 61\u001b[0;31m     \u001b[0mnp\u001b[0m\u001b[0;34m.\u001b[0m\u001b[0mmean\u001b[0m\u001b[0;34m(\u001b[0m\u001b[0;34m)\u001b[0m\u001b[0;34m\u001b[0m\u001b[0;34m\u001b[0m\u001b[0m\n\u001b[0m\u001b[1;32m     62\u001b[0m     \u001b[0macc_l\u001b[0m\u001b[0;34m\u001b[0m\u001b[0;34m\u001b[0m\u001b[0m\n\u001b[1;32m     63\u001b[0m     \u001b[0mnp\u001b[0m\u001b[0;34m.\u001b[0m\u001b[0mmean\u001b[0m\u001b[0;34m(\u001b[0m\u001b[0macc_l\u001b[0m\u001b[0;34m)\u001b[0m\u001b[0;34m\u001b[0m\u001b[0;34m\u001b[0m\u001b[0m\n",
      "\u001b[0;31mTypeError\u001b[0m: mean() missing 1 required positional argument: 'a'"
     ]
    }
   ],
   "source": [
    "sens_l = []\n",
    "spec_l = []\n",
    "acc_l = []\n",
    "def load_model():\n",
    "    \n",
    "    \n",
    "    \n",
    "    IMG_SIZE = 100\n",
    "    model = Sequential()\n",
    "\n",
    "    model.add(Conv2D(filters = 5, kernel_size = (5,5),padding = 'Same', \n",
    "                     activation ='relu', input_shape = (IMG_SIZE,IMG_SIZE,3)))\n",
    "    model.add(MaxPool2D(pool_size=(2,2)))\n",
    "    model.add(Dropout(0.25))\n",
    "\n",
    "    model.add(Flatten())\n",
    "    model.add(Dense(100, activation = \"relu\"))\n",
    "    model.add(Dropout(0.2))\n",
    "    model.add(Dense(50, activation = \"relu\"))\n",
    "    model.add(Dropout(0.2))\n",
    "    model.add(Dense(1, activation = \"sigmoid\"))\n",
    "\n",
    "    model.compile(\n",
    "     optimizer = \"adam\",\n",
    "     loss = \"binary_crossentropy\",\n",
    "     metrics = [\"accuracy\"]\n",
    "    )\n",
    "    return model\n",
    "\n",
    "def train_evaluate(model, data_train, labels_train, data_test, labels_test):\n",
    "    model.fit(x=data_train, y=labels_train, batch_size=5, epochs=1,\n",
    "         verbose=1, shuffle=True)\n",
    "    loss, acc = model.evaluate(x=data_test, y=labels_test, batch_size=5, verbose=1)\n",
    "    print(loss, acc)\n",
    "    y_pred = model.predict(data_test, verbose=0)\n",
    "    y_pred = y_pred.round()\n",
    "    y_pred = np.array([int(i) for i in y_pred])\n",
    "    tn, fp, fn, tp = confusion_matrix(labels_test,y_pred).ravel()\n",
    "    sens = tp/(tp+fn)\n",
    "    sens_l.append(sens)\n",
    "    spec = tn/(tn+fp)\n",
    "    spec_l.append(spec)\n",
    "    acc_l.append(acc)\n",
    "    print(confusion_matrix(labels_test,y_pred))\n",
    "    print(\"sens and spec is:\")\n",
    "    print(sens, spec)\n",
    "    \n",
    "\n",
    "from sklearn.model_selection import StratifiedKFold\n",
    "\n",
    "if __name__ == \"__main__\":\n",
    "    load_model()\n",
    "    kFold = StratifiedKFold(n_splits=10, shuffle = True)\n",
    "    for train, test in kFold.split(data_np,labels_np):\n",
    "        model = None\n",
    "        model = load_model()\n",
    "        train_evaluate(model, data_np[train], labels_np[train], data_np[test], labels_np[test])\n",
    "    print(\"sensitivity, specificity and accuracy:\")\n",
    "    print(np.mean(sens_l))\n",
    "    print(np.mean(spec_l))\n",
    "    print(np.mean(acc_l))\n",
    "    "
   ]
  },
  {
   "cell_type": "code",
   "execution_count": 9,
   "metadata": {},
   "outputs": [
    {
     "name": "stdout",
     "output_type": "stream",
     "text": [
      "sensitivity, specificity and accuracy:\n",
      "0.9524125874125874\n",
      "0.9459300928891736\n",
      "0.9491394686026107\n"
     ]
    }
   ],
   "source": [
    "print(\"sensitivity, specificity and accuracy:\")\n",
    "print(np.mean(sens_l))\n",
    "print(np.mean(spec_l))\n",
    "print(np.mean(acc_l))"
   ]
  },
  {
   "cell_type": "markdown",
   "metadata": {},
   "source": [
    "## 2 layers CV"
   ]
  },
  {
   "cell_type": "code",
   "execution_count": 10,
   "metadata": {},
   "outputs": [
    {
     "name": "stdout",
     "output_type": "stream",
     "text": [
      "Epoch 1/1\n",
      "3997/3997 [==============================] - 49s 12ms/step - loss: 0.5491 - acc: 0.6968\n",
      "445/445 [==============================] - 3s 7ms/step\n",
      "0.38503636979613076 0.8112359649679634\n",
      "[[170  54]\n",
      " [ 30 191]]\n",
      "sens and spec is:\n",
      "0.8642533936651584 0.7589285714285714\n",
      "Epoch 1/1\n",
      "3997/3997 [==============================] - 50s 12ms/step - loss: 0.5635 - acc: 0.6945\n",
      "445/445 [==============================] - 3s 7ms/step\n",
      "0.4535754065165359 0.7483146127020375\n",
      "[[218   6]\n",
      " [106 115]]\n",
      "sens and spec is:\n",
      "0.5203619909502263 0.9732142857142857\n",
      "Epoch 1/1\n",
      "3997/3997 [==============================] - 54s 13ms/step - loss: 0.5124 - acc: 0.7213\n",
      "445/445 [==============================] - 3s 7ms/step\n",
      "0.4171969120422106 0.8292134903120191\n",
      "[[154  70]\n",
      " [  6 215]]\n",
      "sens and spec is:\n",
      "0.9728506787330317 0.6875\n",
      "Epoch 1/1\n",
      "3997/3997 [==============================] - 52s 13ms/step - loss: 0.4600 - acc: 0.7603\n",
      "445/445 [==============================] - 3s 7ms/step\n",
      "0.36323964243409423 0.8696629287821523\n",
      "[[190  34]\n",
      " [ 24 197]]\n",
      "sens and spec is:\n",
      "0.8914027149321267 0.8482142857142857\n",
      "Epoch 1/1\n",
      "3997/3997 [==============================] - 53s 13ms/step - loss: 0.4521 - acc: 0.7626\n",
      "445/445 [==============================] - 3s 7ms/step\n",
      "0.3670112067490837 0.8786516916216089\n",
      "[[191  33]\n",
      " [ 21 200]]\n",
      "sens and spec is:\n",
      "0.9049773755656109 0.8526785714285714\n",
      "Epoch 1/1\n",
      "3998/3998 [==============================] - 52s 13ms/step - loss: 0.4924 - acc: 0.7431\n",
      "444/444 [==============================] - 3s 8ms/step\n",
      "0.4006461069692631 0.8423423490545772\n",
      "[[196  28]\n",
      " [ 42 178]]\n",
      "sens and spec is:\n",
      "0.8090909090909091 0.875\n",
      "Epoch 1/1\n",
      "3998/3998 [==============================] - 55s 14ms/step - loss: 0.5293 - acc: 0.7154\n",
      "444/444 [==============================] - 3s 8ms/step\n",
      "0.37246819296358824 0.8445946028506434\n",
      "[[189  35]\n",
      " [ 34 186]]\n",
      "sens and spec is:\n",
      "0.8454545454545455 0.84375\n",
      "Epoch 1/1\n",
      "3999/3999 [==============================] - 53s 13ms/step - loss: 0.4993 - acc: 0.7267\n",
      "443/443 [==============================] - 4s 8ms/step\n",
      "0.42485802698014286 0.8126410918297671\n",
      "[[153  70]\n",
      " [ 13 207]]\n",
      "sens and spec is:\n",
      "0.9409090909090909 0.6860986547085202\n",
      "Epoch 1/1\n",
      "3999/3999 [==============================] - 55s 14ms/step - loss: 0.5073 - acc: 0.7289\n",
      "443/443 [==============================] - 4s 8ms/step\n",
      "0.33736814795646386 0.8668171621808618\n",
      "[[172  51]\n",
      " [  8 212]]\n",
      "sens and spec is:\n",
      "0.9636363636363636 0.7713004484304933\n",
      "Epoch 1/1\n",
      "3999/3999 [==============================] - 54s 13ms/step - loss: 0.4984 - acc: 0.7334\n",
      "443/443 [==============================] - 4s 8ms/step\n",
      "0.35602861191235424 0.8668171630217851\n",
      "[[187  36]\n",
      " [ 23 197]]\n",
      "sens and spec is:\n",
      "0.8954545454545455 0.8385650224215246\n",
      "sensitivity, specificity and accuracy:\n",
      "0.8608391608391608\n",
      "0.8135249839846252\n",
      "0.8370291057323417\n"
     ]
    }
   ],
   "source": [
    "sens_l = []\n",
    "spec_l = []\n",
    "acc_l = []\n",
    "def load_model():\n",
    "    \n",
    "    \n",
    "    \n",
    "    IMG_SIZE = 100\n",
    "    model = Sequential()\n",
    "\n",
    "    model.add(Conv2D(filters = 5, kernel_size = (5,5),padding = 'Same', \n",
    "                     activation ='relu', input_shape = (IMG_SIZE,IMG_SIZE,3)))\n",
    "    model.add(MaxPool2D(pool_size=(2,2)))\n",
    "    model.add(Dropout(0.25))\n",
    "    \n",
    "    model.add(Conv2D(filters = 5, kernel_size = (5,5),padding = 'Same', \n",
    "                     activation ='relu', input_shape = (IMG_SIZE,IMG_SIZE,3)))\n",
    "    model.add(MaxPool2D(pool_size=(2,2)))\n",
    "    model.add(Dropout(0.25))\n",
    "\n",
    "    model.add(Flatten())\n",
    "    model.add(Dense(100, activation = \"relu\"))\n",
    "    model.add(Dropout(0.2))\n",
    "    model.add(Dense(50, activation = \"relu\"))\n",
    "    model.add(Dropout(0.2))\n",
    "    model.add(Dense(1, activation = \"sigmoid\"))\n",
    "\n",
    "    model.compile(\n",
    "     optimizer = \"adam\",\n",
    "     loss = \"binary_crossentropy\",\n",
    "     metrics = [\"accuracy\"]\n",
    "    )\n",
    "    return model\n",
    "\n",
    "def train_evaluate(model, data_train, labels_train, data_test, labels_test):\n",
    "    model.fit(x=data_train, y=labels_train, batch_size=5, epochs=1,\n",
    "         verbose=1, shuffle=True)\n",
    "    loss, acc = model.evaluate(x=data_test, y=labels_test, batch_size=5, verbose=1)\n",
    "    print(loss, acc)\n",
    "    y_pred = model.predict(data_test, verbose=0)\n",
    "    y_pred = y_pred.round()\n",
    "    y_pred = np.array([int(i) for i in y_pred])\n",
    "    tn, fp, fn, tp = confusion_matrix(labels_test,y_pred).ravel()\n",
    "    sens = tp/(tp+fn)\n",
    "    sens_l.append(sens)\n",
    "    spec = tn/(tn+fp)\n",
    "    spec_l.append(spec)\n",
    "    acc_l.append(acc)\n",
    "    print(confusion_matrix(labels_test,y_pred))\n",
    "    print(\"sens and spec is:\")\n",
    "    print(sens, spec)\n",
    "    \n",
    "\n",
    "from sklearn.model_selection import StratifiedKFold\n",
    "\n",
    "if __name__ == \"__main__\":\n",
    "    load_model()\n",
    "    kFold = StratifiedKFold(n_splits=10, shuffle = True)\n",
    "    for train, test in kFold.split(data_np,labels_np):\n",
    "        model = None\n",
    "        model = load_model()\n",
    "        train_evaluate(model, data_np[train], labels_np[train], data_np[test], labels_np[test])\n",
    "    print(\"sensitivity, specificity and accuracy:\")\n",
    "    print(np.mean(sens_l))\n",
    "    print(np.mean(spec_l))\n",
    "    print(np.mean(acc_l))\n",
    "    "
   ]
  },
  {
   "cell_type": "code",
   "execution_count": 11,
   "metadata": {},
   "outputs": [
    {
     "name": "stdout",
     "output_type": "stream",
     "text": [
      "Epoch 1/1\n",
      "3997/3997 [==============================] - 50s 13ms/step - loss: 0.6025 - acc: 0.6645\n",
      "445/445 [==============================] - 4s 8ms/step\n",
      "0.587406590748369 0.5955056204889597\n",
      "[[221   3]\n",
      " [177  44]]\n",
      "sens and spec is:\n",
      "0.19909502262443438 0.9866071428571429\n",
      "Epoch 1/1\n",
      "3997/3997 [==============================] - 51s 13ms/step - loss: 0.5625 - acc: 0.6893\n",
      "445/445 [==============================] - 4s 9ms/step\n",
      "0.5777921402052547 0.7213483203328057\n",
      "[[100 124]\n",
      " [  0 221]]\n",
      "sens and spec is:\n",
      "1.0 0.44642857142857145\n",
      "Epoch 1/1\n",
      "3997/3997 [==============================] - 51s 13ms/step - loss: 0.5705 - acc: 0.6770\n",
      "445/445 [==============================] - 4s 9ms/step\n",
      "0.505225981080779 0.732584278067846\n",
      "[[206  18]\n",
      " [101 120]]\n",
      "sens and spec is:\n",
      "0.5429864253393665 0.9196428571428571\n",
      "Epoch 1/1\n",
      "3997/3997 [==============================] - 52s 13ms/step - loss: 0.5895 - acc: 0.6627\n",
      "445/445 [==============================] - 4s 9ms/step\n",
      "0.4659195863798763 0.784269673101018\n",
      "[[159  65]\n",
      " [ 31 190]]\n",
      "sens and spec is:\n",
      "0.8597285067873304 0.7098214285714286\n",
      "Epoch 1/1\n",
      "3997/3997 [==============================] - 52s 13ms/step - loss: 0.5744 - acc: 0.6753\n",
      "445/445 [==============================] - 4s 9ms/step\n",
      "0.5564166146717714 0.6943820346607251\n",
      "[[142  82]\n",
      " [ 54 167]]\n",
      "sens and spec is:\n",
      "0.755656108597285 0.6339285714285714\n",
      "Epoch 1/1\n",
      "3998/3998 [==============================] - 52s 13ms/step - loss: 0.5377 - acc: 0.7151\n",
      "444/444 [==============================] - 4s 9ms/step\n",
      "0.4644838091204161 0.813063072896487\n",
      "[[178  46]\n",
      " [ 37 183]]\n",
      "sens and spec is:\n",
      "0.8318181818181818 0.7946428571428571\n",
      "Epoch 1/1\n",
      "3998/3998 [==============================] - 47s 12ms/step - loss: 0.5719 - acc: 0.6816\n",
      "444/444 [==============================] - 4s 9ms/step\n",
      "0.5002377830143716 0.7567567662881302\n",
      "[[200  24]\n",
      " [ 84 136]]\n",
      "sens and spec is:\n",
      "0.6181818181818182 0.8928571428571429\n",
      "Epoch 1/1\n",
      "3999/3999 [==============================] - 49s 12ms/step - loss: 0.6276 - acc: 0.6217\n",
      "443/443 [==============================] - 5s 10ms/step\n",
      "0.5434498170392827 0.7020316120598709\n",
      "[[193  30]\n",
      " [102 118]]\n",
      "sens and spec is:\n",
      "0.5363636363636364 0.8654708520179372\n",
      "Epoch 1/1\n",
      "3999/3999 [==============================] - 49s 12ms/step - loss: 0.5755 - acc: 0.6814\n",
      "443/443 [==============================] - 5s 10ms/step\n",
      "0.5109592047404354 0.7223476419734094\n",
      "[[174  49]\n",
      " [ 74 146]]\n",
      "sens and spec is:\n",
      "0.6636363636363637 0.7802690582959642\n",
      "Epoch 1/1\n",
      "3999/3999 [==============================] - 50s 13ms/step - loss: 0.5443 - acc: 0.7049\n",
      "443/443 [==============================] - 5s 11ms/step\n",
      "0.4513124510031992 0.7990970737374394\n",
      "[[140  83]\n",
      " [  6 214]]\n",
      "sens and spec is:\n",
      "0.9727272727272728 0.6278026905829597\n",
      "sensitivity, specificity and accuracy:\n",
      "0.6980193336075688\n",
      "0.7657471172325432\n",
      "0.7321386093606692\n"
     ]
    }
   ],
   "source": [
    "sens_l = []\n",
    "spec_l = []\n",
    "acc_l = []\n",
    "def load_model():\n",
    "    \n",
    "    \n",
    "    \n",
    "    IMG_SIZE = 100\n",
    "    model = Sequential()\n",
    "\n",
    "    model.add(Conv2D(filters = 5, kernel_size = (5,5),padding = 'Same', \n",
    "                     activation ='relu', input_shape = (IMG_SIZE,IMG_SIZE,3)))\n",
    "    model.add(MaxPool2D(pool_size=(2,2)))\n",
    "    model.add(Dropout(0.5))\n",
    "    \n",
    "    model.add(Conv2D(filters = 5, kernel_size = (5,5),padding = 'Same', \n",
    "                     activation ='relu', input_shape = (IMG_SIZE,IMG_SIZE,3)))\n",
    "    model.add(MaxPool2D(pool_size=(2,2)))\n",
    "    model.add(Dropout(0.25))\n",
    "    \n",
    "    model.add(Conv2D(filters = 5, kernel_size = (5,5),padding = 'Same', \n",
    "                     activation ='relu', input_shape = (IMG_SIZE,IMG_SIZE,3)))\n",
    "    model.add(MaxPool2D(pool_size=(2,2)))\n",
    "    model.add(Dropout(0.25))\n",
    "\n",
    "    model.add(Flatten())\n",
    "    model.add(Dense(100, activation = \"relu\"))\n",
    "    model.add(Dropout(0.2))\n",
    "    model.add(Dense(50, activation = \"relu\"))\n",
    "    model.add(Dropout(0.2))\n",
    "    model.add(Dense(1, activation = \"sigmoid\"))\n",
    "\n",
    "    model.compile(\n",
    "     optimizer = \"adam\",\n",
    "     loss = \"binary_crossentropy\",\n",
    "     metrics = [\"accuracy\"]\n",
    "    )\n",
    "    return model\n",
    "\n",
    "def train_evaluate(model, data_train, labels_train, data_test, labels_test):\n",
    "    model.fit(x=data_train, y=labels_train, batch_size=5, epochs=1,\n",
    "         verbose=1, shuffle=True)\n",
    "    loss, acc = model.evaluate(x=data_test, y=labels_test, batch_size=5, verbose=1)\n",
    "    print(loss, acc)\n",
    "    y_pred = model.predict(data_test, verbose=0)\n",
    "    y_pred = y_pred.round()\n",
    "    y_pred = np.array([int(i) for i in y_pred])\n",
    "    tn, fp, fn, tp = confusion_matrix(labels_test,y_pred).ravel()\n",
    "    sens = tp/(tp+fn)\n",
    "    sens_l.append(sens)\n",
    "    spec = tn/(tn+fp)\n",
    "    spec_l.append(spec)\n",
    "    acc_l.append(acc)\n",
    "    print(confusion_matrix(labels_test,y_pred))\n",
    "    print(\"sens and spec is:\")\n",
    "    print(sens, spec)\n",
    "    \n",
    "\n",
    "from sklearn.model_selection import StratifiedKFold\n",
    "\n",
    "if __name__ == \"__main__\":\n",
    "    load_model()\n",
    "    kFold = StratifiedKFold(n_splits=10, shuffle = True)\n",
    "    for train, test in kFold.split(data_np,labels_np):\n",
    "        model = None\n",
    "        model = load_model()\n",
    "        train_evaluate(model, data_np[train], labels_np[train], data_np[test], labels_np[test])\n",
    "    print(\"sensitivity, specificity and accuracy:\")\n",
    "    print(np.mean(sens_l))\n",
    "    print(np.mean(spec_l))\n",
    "    print(np.mean(acc_l))\n",
    "    "
   ]
  },
  {
   "cell_type": "code",
   "execution_count": 12,
   "metadata": {},
   "outputs": [
    {
     "name": "stdout",
     "output_type": "stream",
     "text": [
      "Epoch 1/1\n",
      "3997/3997 [==============================] - 53s 13ms/step - loss: 0.5717 - acc: 0.6823\n",
      "445/445 [==============================] - 5s 10ms/step\n",
      "0.47692535752744486 0.773033718212267\n",
      "[[153  71]\n",
      " [ 30 191]]\n",
      "sens and spec is:\n",
      "0.8642533936651584 0.6830357142857143\n",
      "Epoch 1/1\n",
      "3997/3997 [==============================] - 53s 13ms/step - loss: 0.6170 - acc: 0.6370\n",
      "445/445 [==============================] - 5s 11ms/step\n",
      "0.49131092709604274 0.7258427102914017\n",
      "[[173  51]\n",
      " [ 71 150]]\n",
      "sens and spec is:\n",
      "0.6787330316742082 0.7723214285714286\n",
      "Epoch 1/1\n",
      "3997/3997 [==============================] - 54s 13ms/step - loss: 0.6123 - acc: 0.6300\n",
      "445/445 [==============================] - 5s 11ms/step\n",
      "0.9301423961908185 0.5123595509971126\n",
      "[[223   1]\n",
      " [216   5]]\n",
      "sens and spec is:\n",
      "0.02262443438914027 0.9955357142857143\n",
      "Epoch 1/1\n",
      "3997/3997 [==============================] - 54s 14ms/step - loss: 0.6202 - acc: 0.6357\n",
      "445/445 [==============================] - 5s 12ms/step\n",
      "0.5282952224605539 0.7595505704370777\n",
      "[[130  94]\n",
      " [ 13 208]]\n",
      "sens and spec is:\n",
      "0.9411764705882353 0.5803571428571429\n",
      "Epoch 1/1\n",
      "3997/3997 [==============================] - 55s 14ms/step - loss: 0.6444 - acc: 0.5992\n",
      "445/445 [==============================] - 5s 12ms/step\n",
      "0.5855049963077802 0.7011236002605953\n",
      "[[ 93 131]\n",
      " [  2 219]]\n",
      "sens and spec is:\n",
      "0.9909502262443439 0.41517857142857145\n",
      "Epoch 1/1\n",
      "3998/3998 [==============================] - 56s 14ms/step - loss: 0.5917 - acc: 0.6683\n",
      "444/444 [==============================] - 5s 12ms/step\n",
      "0.7786946862604079 0.5495495505228236\n",
      "[[223   1]\n",
      " [199  21]]\n",
      "sens and spec is:\n",
      "0.09545454545454546 0.9955357142857143\n",
      "Epoch 1/1\n",
      "3998/3998 [==============================] - 56s 14ms/step - loss: 0.6049 - acc: 0.6521\n",
      "444/444 [==============================] - 6s 12ms/step\n",
      "0.5025133484143864 0.7590090197150234\n",
      "[[152  72]\n",
      " [ 35 185]]\n",
      "sens and spec is:\n",
      "0.8409090909090909 0.6785714285714286\n",
      "Epoch 1/1\n",
      "3999/3999 [==============================] - 57s 14ms/step - loss: 0.6132 - acc: 0.6372\n",
      "443/443 [==============================] - 6s 13ms/step\n",
      "0.5095880077500107 0.7516930133575241\n",
      "[[143  80]\n",
      " [ 30 190]]\n",
      "sens and spec is:\n",
      "0.8636363636363636 0.6412556053811659\n",
      "Epoch 1/1\n",
      "3999/3999 [==============================] - 59s 15ms/step - loss: 0.6120 - acc: 0.6312\n",
      "443/443 [==============================] - 6s 13ms/step\n",
      "0.5562658163952235 0.7336343199889224\n",
      "[[115 108]\n",
      " [ 10 210]]\n",
      "sens and spec is:\n",
      "0.9545454545454546 0.515695067264574\n",
      "Epoch 1/1\n",
      "3999/3999 [==============================] - 58s 14ms/step - loss: 0.5505 - acc: 0.6974\n",
      "443/443 [==============================] - 6s 14ms/step\n",
      "0.5203917854997429 0.7471783357266648\n",
      "[[114 109]\n",
      " [  3 217]]\n",
      "sens and spec is:\n",
      "0.9863636363636363 0.5112107623318386\n",
      "sensitivity, specificity and accuracy:\n",
      "0.7238646647470176\n",
      "0.6788697149263293\n",
      "0.7012974389509414\n"
     ]
    }
   ],
   "source": [
    "sens_l = []\n",
    "spec_l = []\n",
    "acc_l = []\n",
    "def load_model():\n",
    "    \n",
    "    \n",
    "    \n",
    "    IMG_SIZE = 100\n",
    "    model = Sequential()\n",
    "\n",
    "    model.add(Conv2D(filters = 5, kernel_size = (5,5),padding = 'Same', \n",
    "                     activation ='relu', input_shape = (IMG_SIZE,IMG_SIZE,3)))\n",
    "    model.add(MaxPool2D(pool_size=(2,2)))\n",
    "    model.add(Dropout(0.5))\n",
    "    \n",
    "    model.add(Conv2D(filters = 5, kernel_size = (5,5),padding = 'Same', \n",
    "                     activation ='relu', input_shape = (IMG_SIZE,IMG_SIZE,3)))\n",
    "    model.add(MaxPool2D(pool_size=(2,2)))\n",
    "    model.add(Dropout(0.25))\n",
    "    \n",
    "    model.add(Conv2D(filters = 5, kernel_size = (5,5),padding = 'Same', \n",
    "                     activation ='relu', input_shape = (IMG_SIZE,IMG_SIZE,3)))\n",
    "    model.add(MaxPool2D(pool_size=(2,2)))\n",
    "    model.add(Dropout(0.25))\n",
    "    \n",
    "    model.add(Conv2D(filters = 5, kernel_size = (5,5),padding = 'Same', \n",
    "                     activation ='relu', input_shape = (IMG_SIZE,IMG_SIZE,3)))\n",
    "    model.add(MaxPool2D(pool_size=(2,2)))\n",
    "    model.add(Dropout(0.25))\n",
    "\n",
    "    model.add(Flatten())\n",
    "    model.add(Dense(100, activation = \"relu\"))\n",
    "    model.add(Dropout(0.2))\n",
    "    model.add(Dense(50, activation = \"relu\"))\n",
    "    model.add(Dropout(0.2))\n",
    "    model.add(Dense(1, activation = \"sigmoid\"))\n",
    "\n",
    "    model.compile(\n",
    "     optimizer = \"adam\",\n",
    "     loss = \"binary_crossentropy\",\n",
    "     metrics = [\"accuracy\"]\n",
    "    )\n",
    "    return model\n",
    "\n",
    "def train_evaluate(model, data_train, labels_train, data_test, labels_test):\n",
    "    model.fit(x=data_train, y=labels_train, batch_size=5, epochs=1,\n",
    "         verbose=1, shuffle=True)\n",
    "    loss, acc = model.evaluate(x=data_test, y=labels_test, batch_size=5, verbose=1)\n",
    "    print(loss, acc)\n",
    "    y_pred = model.predict(data_test, verbose=0)\n",
    "    y_pred = y_pred.round()\n",
    "    y_pred = np.array([int(i) for i in y_pred])\n",
    "    tn, fp, fn, tp = confusion_matrix(labels_test,y_pred).ravel()\n",
    "    sens = tp/(tp+fn)\n",
    "    sens_l.append(sens)\n",
    "    spec = tn/(tn+fp)\n",
    "    spec_l.append(spec)\n",
    "    acc_l.append(acc)\n",
    "    print(confusion_matrix(labels_test,y_pred))\n",
    "    print(\"sens and spec is:\")\n",
    "    print(sens, spec)\n",
    "    \n",
    "\n",
    "from sklearn.model_selection import StratifiedKFold\n",
    "\n",
    "if __name__ == \"__main__\":\n",
    "    load_model()\n",
    "    kFold = StratifiedKFold(n_splits=10, shuffle = True)\n",
    "    for train, test in kFold.split(data_np,labels_np):\n",
    "        model = None\n",
    "        model = load_model()\n",
    "        train_evaluate(model, data_np[train], labels_np[train], data_np[test], labels_np[test])\n",
    "    print(\"sensitivity, specificity and accuracy:\")\n",
    "    print(np.mean(sens_l))\n",
    "    print(np.mean(spec_l))\n",
    "    print(np.mean(acc_l))\n",
    "    "
   ]
  },
  {
   "cell_type": "code",
   "execution_count": 5,
   "metadata": {},
   "outputs": [
    {
     "name": "stdout",
     "output_type": "stream",
     "text": [
      "1466/1466 [==============================] - 5s 4ms/step\n"
     ]
    },
    {
     "data": {
      "text/plain": [
       "[0.11489658249671715, 0.955661650569182]"
      ]
     },
     "execution_count": 5,
     "metadata": {},
     "output_type": "execute_result"
    }
   ],
   "source": [
    "model.evaluate(x=np.array(X_test), y=np.array(y_test), batch_size=30, verbose=1)"
   ]
  },
  {
   "cell_type": "markdown",
   "metadata": {},
   "source": [
    "## Total dataset for 2 layers of convolution"
   ]
  },
  {
   "cell_type": "code",
   "execution_count": 7,
   "metadata": {},
   "outputs": [
    {
     "name": "stdout",
     "output_type": "stream",
     "text": [
      "Train on 1993 samples, validate on 983 samples\n",
      "Epoch 1/5\n",
      "1993/1993 [==============================] - 22s 11ms/step - loss: 0.6401 - acc: 0.6272 - val_loss: 0.5547 - val_acc: 0.7213\n",
      "Epoch 2/5\n",
      "1993/1993 [==============================] - 21s 11ms/step - loss: 0.5125 - acc: 0.7476 - val_loss: 0.4834 - val_acc: 0.7670\n",
      "Epoch 3/5\n",
      "1993/1993 [==============================] - 21s 11ms/step - loss: 0.4373 - acc: 0.7762 - val_loss: 0.4075 - val_acc: 0.8026\n",
      "Epoch 4/5\n",
      "1993/1993 [==============================] - 21s 11ms/step - loss: 0.3593 - acc: 0.8329 - val_loss: 0.3600 - val_acc: 0.8454\n",
      "Epoch 5/5\n",
      "1993/1993 [==============================] - 21s 11ms/step - loss: 0.3176 - acc: 0.8580 - val_loss: 0.3084 - val_acc: 0.8606\n"
     ]
    },
    {
     "data": {
      "text/plain": [
       "<keras.callbacks.History at 0x7fd071e6e160>"
      ]
     },
     "execution_count": 7,
     "metadata": {},
     "output_type": "execute_result"
    }
   ],
   "source": [
    "model = Sequential()\n",
    "\n",
    "model.add(Conv2D(filters = 5, kernel_size = (5,5),padding = 'Same', \n",
    "                 activation ='relu', input_shape = (IMG_SIZE,IMG_SIZE,3)))\n",
    "model.add(MaxPool2D(pool_size=(2,2)))\n",
    "\n",
    "\n",
    "model.add(Dropout(0.25))\n",
    "model.add(Conv2D(filters = 5, kernel_size = (5,5),padding = 'Same', \n",
    "                 activation ='relu'))\n",
    "model.add(MaxPool2D(pool_size=(2,2)))\n",
    "model.add(Dropout(0.25))\n",
    "\n",
    "model.add(Flatten())\n",
    "model.add(Dense(100, activation = \"relu\"))\n",
    "model.add(Dropout(0.2))\n",
    "model.add(Dense(50, activation = \"relu\"))\n",
    "model.add(Dropout(0.2))\n",
    "model.add(Dense(1, activation = \"sigmoid\"))\n",
    "\n",
    "model.compile(\n",
    " optimizer = \"adam\",\n",
    " loss = \"binary_crossentropy\",\n",
    " metrics = [\"accuracy\"]\n",
    ")\n",
    "\n",
    "model.fit(x=np.array(X_train), y=np.array(y_train), batch_size=50, epochs=5,\n",
    "          validation_data = (np.array(X_validate), np.array(y_validate)), verbose=1, shuffle=True)"
   ]
  },
  {
   "cell_type": "code",
   "execution_count": 8,
   "metadata": {},
   "outputs": [
    {
     "name": "stdout",
     "output_type": "stream",
     "text": [
      "1466/1466 [==============================] - 7s 5ms/step\n"
     ]
    },
    {
     "data": {
      "text/plain": [
       "[0.2918369301466467, 0.8806275511503545]"
      ]
     },
     "execution_count": 8,
     "metadata": {},
     "output_type": "execute_result"
    }
   ],
   "source": [
    "model.evaluate(x=np.array(X_test), y=np.array(y_test), batch_size=30, verbose=1)"
   ]
  },
  {
   "cell_type": "markdown",
   "metadata": {},
   "source": [
    "## 3 layers"
   ]
  },
  {
   "cell_type": "code",
   "execution_count": 12,
   "metadata": {},
   "outputs": [
    {
     "name": "stdout",
     "output_type": "stream",
     "text": [
      "Train on 1993 samples, validate on 983 samples\n",
      "Epoch 1/5\n",
      "1993/1993 [==============================] - 23s 11ms/step - loss: 0.6562 - acc: 0.5926 - val_loss: 0.6075 - val_acc: 0.6989\n",
      "Epoch 2/5\n",
      "1993/1993 [==============================] - 22s 11ms/step - loss: 0.5416 - acc: 0.7296 - val_loss: 0.4894 - val_acc: 0.7406\n",
      "Epoch 3/5\n",
      "1993/1993 [==============================] - 22s 11ms/step - loss: 0.4779 - acc: 0.7782 - val_loss: 0.4881 - val_acc: 0.7569\n",
      "Epoch 4/5\n",
      "1993/1993 [==============================] - 22s 11ms/step - loss: 0.4177 - acc: 0.8063 - val_loss: 0.3846 - val_acc: 0.8271\n",
      "Epoch 5/5\n",
      "1993/1993 [==============================] - 22s 11ms/step - loss: 0.3779 - acc: 0.8284 - val_loss: 0.3652 - val_acc: 0.8525\n"
     ]
    },
    {
     "data": {
      "text/plain": [
       "<keras.callbacks.History at 0x7fd05ca23160>"
      ]
     },
     "execution_count": 12,
     "metadata": {},
     "output_type": "execute_result"
    }
   ],
   "source": [
    "model = Sequential()\n",
    "\n",
    "model.add(Conv2D(filters = 5, kernel_size = (5,5),padding = 'Same', \n",
    "                 activation ='relu', input_shape = (IMG_SIZE,IMG_SIZE,3)))\n",
    "model.add(MaxPool2D(pool_size=(2,2)))\n",
    "\n",
    "model.add(Conv2D(filters = 5, kernel_size = (5,5),padding = 'Same', \n",
    "                 activation ='relu'))\n",
    "model.add(MaxPool2D(pool_size=(2,2)))\n",
    "model.add(Dropout(0.25))\n",
    "model.add(Conv2D(filters = 5, kernel_size = (5,5),padding = 'Same', \n",
    "                 activation ='relu'))\n",
    "model.add(MaxPool2D(pool_size=(2,2)))\n",
    "model.add(Dropout(0.25))\n",
    "\n",
    "model.add(Flatten())\n",
    "model.add(Dense(100, activation = \"relu\"))\n",
    "model.add(Dropout(0.2))\n",
    "model.add(Dense(50, activation = \"relu\"))\n",
    "model.add(Dropout(0.2))\n",
    "model.add(Dense(1, activation = \"sigmoid\"))\n",
    "\n",
    "model.compile(\n",
    " optimizer = \"adam\",\n",
    " loss = \"binary_crossentropy\",\n",
    " metrics = [\"accuracy\"]\n",
    ")\n",
    "\n",
    "model.fit(x=np.array(X_train), y=np.array(y_train), batch_size=30, epochs=5,\n",
    "          validation_data = (np.array(X_validate), np.array(y_validate)), verbose=1, shuffle=True)"
   ]
  },
  {
   "cell_type": "code",
   "execution_count": 13,
   "metadata": {},
   "outputs": [
    {
     "name": "stdout",
     "output_type": "stream",
     "text": [
      "1466/1466 [==============================] - 7s 5ms/step\n"
     ]
    },
    {
     "data": {
      "text/plain": [
       "[0.33772831592114205, 0.8738062642768818]"
      ]
     },
     "execution_count": 13,
     "metadata": {},
     "output_type": "execute_result"
    }
   ],
   "source": [
    "model.evaluate(x=np.array(X_test), y=np.array(y_test), batch_size=30, verbose=1)"
   ]
  },
  {
   "cell_type": "code",
   "execution_count": 139,
   "metadata": {},
   "outputs": [],
   "source": [
    "y_preds = model.predict(np.array(X_test), batch_size=None, verbose=0)"
   ]
  },
  {
   "cell_type": "code",
   "execution_count": 144,
   "metadata": {},
   "outputs": [
    {
     "data": {
      "text/plain": [
       "0.0013323209"
      ]
     },
     "execution_count": 144,
     "metadata": {},
     "output_type": "execute_result"
    }
   ],
   "source": [
    "y_preds[0][0]"
   ]
  },
  {
   "cell_type": "code",
   "execution_count": 146,
   "metadata": {},
   "outputs": [],
   "source": [
    "y_pred = []\n",
    "\n",
    "for i in range(len(y_preds)):\n",
    "    if y_preds[i][0] >= 0.5:\n",
    "        y_pred.append(1)\n",
    "    else:\n",
    "        y_pred.append(0)"
   ]
  },
  {
   "cell_type": "code",
   "execution_count": 147,
   "metadata": {},
   "outputs": [
    {
     "data": {
      "text/plain": [
       "array([[2952,  456],\n",
       "       [ 108, 3221]])"
      ]
     },
     "execution_count": 147,
     "metadata": {},
     "output_type": "execute_result"
    }
   ],
   "source": [
    "from sklearn.metrics import confusion_matrix\n",
    "confusion_matrix(y_test, y_pred, labels=None, sample_weight=None)"
   ]
  },
  {
   "cell_type": "code",
   "execution_count": 148,
   "metadata": {},
   "outputs": [],
   "source": [
    "model.save(\"model_60s_3conv.h5\")"
   ]
  },
  {
   "cell_type": "markdown",
   "metadata": {},
   "source": [
    "## 4 layers deep"
   ]
  },
  {
   "cell_type": "code",
   "execution_count": 22,
   "metadata": {},
   "outputs": [
    {
     "name": "stdout",
     "output_type": "stream",
     "text": [
      "Train on 1488 samples, validate on 733 samples\n",
      "Epoch 1/5\n",
      "1488/1488 [==============================] - 19s 13ms/step - loss: 0.6756 - acc: 0.5773 - val_loss: 0.6210 - val_acc: 0.7271\n",
      "Epoch 2/5\n",
      "1488/1488 [==============================] - 18s 12ms/step - loss: 0.5541 - acc: 0.7191 - val_loss: 0.4999 - val_acc: 0.7626\n",
      "Epoch 3/5\n",
      "1488/1488 [==============================] - 18s 12ms/step - loss: 0.4841 - acc: 0.7668 - val_loss: 0.4897 - val_acc: 0.7640\n",
      "Epoch 4/5\n",
      "1488/1488 [==============================] - 18s 12ms/step - loss: 0.4778 - acc: 0.7675 - val_loss: 0.5171 - val_acc: 0.7271\n",
      "Epoch 5/5\n",
      "1488/1488 [==============================] - 18s 12ms/step - loss: 0.4567 - acc: 0.7849 - val_loss: 0.4618 - val_acc: 0.8035\n"
     ]
    },
    {
     "data": {
      "text/plain": [
       "<keras.callbacks.History at 0x7f53d7c29ba8>"
      ]
     },
     "execution_count": 22,
     "metadata": {},
     "output_type": "execute_result"
    }
   ],
   "source": [
    "model = Sequential()\n",
    "\n",
    "model.add(Conv2D(filters = 5, kernel_size = (5,5),padding = 'Same', \n",
    "                 activation ='relu', input_shape = (IMG_SIZE,IMG_SIZE,3)))\n",
    "model.add(MaxPool2D(pool_size=(2,2)))\n",
    "\n",
    "model.add(Conv2D(filters = 5, kernel_size = (5,5),padding = 'Same', \n",
    "                 activation ='relu'))\n",
    "model.add(MaxPool2D(pool_size=(2,2)))\n",
    "model.add(Dropout(0.25))\n",
    "\n",
    "model.add(Conv2D(filters = 5, kernel_size = (5,5),padding = 'Same', \n",
    "                 activation ='relu'))\n",
    "model.add(MaxPool2D(pool_size=(2,2)))\n",
    "model.add(Dropout(0.25))\n",
    "\n",
    "model.add(Conv2D(filters = 5, kernel_size = (5,5),padding = 'Same', \n",
    "                 activation ='relu'))\n",
    "model.add(MaxPool2D(pool_size=(2,2)))\n",
    "model.add(Dropout(0.25))\n",
    "\n",
    "model.add(Flatten())\n",
    "model.add(Dense(100, activation = \"relu\"))\n",
    "model.add(Dropout(0.2))\n",
    "model.add(Dense(50, activation = \"relu\"))\n",
    "model.add(Dropout(0.2))\n",
    "model.add(Dense(1, activation = \"sigmoid\"))\n",
    "\n",
    "model.compile(\n",
    " optimizer = \"adam\",\n",
    " loss = \"binary_crossentropy\",\n",
    " metrics = [\"accuracy\"]\n",
    ")\n",
    "\n",
    "model.fit(x=np.array(X_train), y=np.array(y_train), batch_size=30, epochs=5,\n",
    "          validation_data = (np.array(X_validate), np.array(y_validate)), verbose=1, shuffle=True)"
   ]
  },
  {
   "cell_type": "code",
   "execution_count": 24,
   "metadata": {},
   "outputs": [
    {
     "name": "stdout",
     "output_type": "stream",
     "text": [
      "2221/2221 [==============================] - 12s 5ms/step\n"
     ]
    },
    {
     "data": {
      "text/plain": [
       "[0.4625023849264881, 0.80684375988369]"
      ]
     },
     "execution_count": 24,
     "metadata": {},
     "output_type": "execute_result"
    }
   ],
   "source": [
    "model.evaluate(x=np.array(X_test), y=np.array(y_test), batch_size=30, verbose=1)"
   ]
  },
  {
   "cell_type": "markdown",
   "metadata": {},
   "source": [
    "## 5 Layers\n"
   ]
  },
  {
   "cell_type": "code",
   "execution_count": 16,
   "metadata": {},
   "outputs": [
    {
     "name": "stdout",
     "output_type": "stream",
     "text": [
      "Train on 1993 samples, validate on 983 samples\n",
      "Epoch 1/5\n",
      "1993/1993 [==============================] - 23s 12ms/step - loss: 0.6932 - acc: 0.5003 - val_loss: 0.6919 - val_acc: 0.5982\n",
      "Epoch 2/5\n",
      "1993/1993 [==============================] - 22s 11ms/step - loss: 0.6859 - acc: 0.5670 - val_loss: 0.6721 - val_acc: 0.7223\n",
      "Epoch 3/5\n",
      "1993/1993 [==============================] - 22s 11ms/step - loss: 0.6240 - acc: 0.6834 - val_loss: 0.6329 - val_acc: 0.6348\n",
      "Epoch 4/5\n",
      "1993/1993 [==============================] - 22s 11ms/step - loss: 0.5225 - acc: 0.7546 - val_loss: 0.5242 - val_acc: 0.7508\n",
      "Epoch 5/5\n",
      "1993/1993 [==============================] - 22s 11ms/step - loss: 0.4818 - acc: 0.7727 - val_loss: 0.5318 - val_acc: 0.7599\n"
     ]
    },
    {
     "data": {
      "text/plain": [
       "<keras.callbacks.History at 0x7fd05b14d518>"
      ]
     },
     "execution_count": 16,
     "metadata": {},
     "output_type": "execute_result"
    }
   ],
   "source": [
    "model = Sequential()\n",
    "\n",
    "model.add(Conv2D(filters = 5, kernel_size = (5,5),padding = 'Same', \n",
    "                 activation ='relu', input_shape = (IMG_SIZE,IMG_SIZE,3)))\n",
    "model.add(MaxPool2D(pool_size=(2,2)))\n",
    "\n",
    "model.add(Conv2D(filters = 5, kernel_size = (5,5),padding = 'Same', \n",
    "                 activation ='relu'))\n",
    "model.add(MaxPool2D(pool_size=(2,2)))\n",
    "model.add(Dropout(0.25))\n",
    "\n",
    "model.add(Conv2D(filters = 5, kernel_size = (5,5),padding = 'Same', \n",
    "                 activation ='relu'))\n",
    "model.add(MaxPool2D(pool_size=(2,2)))\n",
    "model.add(Dropout(0.25))\n",
    "\n",
    "model.add(Conv2D(filters = 5, kernel_size = (5,5),padding = 'Same', \n",
    "                 activation ='relu'))\n",
    "model.add(MaxPool2D(pool_size=(2,2)))\n",
    "model.add(Dropout(0.25))\n",
    "\n",
    "model.add(Conv2D(filters = 5, kernel_size = (5,5),padding = 'Same', \n",
    "                 activation ='relu'))\n",
    "model.add(MaxPool2D(pool_size=(2,2)))\n",
    "model.add(Dropout(0.25))\n",
    "\n",
    "model.add(Flatten())\n",
    "model.add(Dense(100, activation = \"relu\"))\n",
    "model.add(Dropout(0.2))\n",
    "model.add(Dense(50, activation = \"relu\"))\n",
    "model.add(Dropout(0.2))\n",
    "model.add(Dense(1, activation = \"sigmoid\"))\n",
    "\n",
    "model.compile(\n",
    " optimizer = \"adam\",\n",
    " loss = \"binary_crossentropy\",\n",
    " metrics = [\"accuracy\"]\n",
    ")\n",
    "\n",
    "model.fit(x=np.array(X_train), y=np.array(y_train), batch_size=30, epochs=5,\n",
    "          validation_data = (np.array(X_validate), np.array(y_validate)), verbose=1, shuffle=True)"
   ]
  },
  {
   "cell_type": "code",
   "execution_count": 17,
   "metadata": {},
   "outputs": [
    {
     "name": "stdout",
     "output_type": "stream",
     "text": [
      "1466/1466 [==============================] - 7s 5ms/step\n"
     ]
    },
    {
     "data": {
      "text/plain": [
       "[0.5488781237423339, 0.7544338336420254]"
      ]
     },
     "execution_count": 17,
     "metadata": {},
     "output_type": "execute_result"
    }
   ],
   "source": [
    "model.evaluate(x=np.array(X_test), y=np.array(y_test), batch_size=30, verbose=1)"
   ]
  }
 ],
 "metadata": {
  "kernelspec": {
   "display_name": "Python 3",
   "language": "python",
   "name": "python3"
  },
  "language_info": {
   "codemirror_mode": {
    "name": "ipython",
    "version": 3
   },
   "file_extension": ".py",
   "mimetype": "text/x-python",
   "name": "python",
   "nbconvert_exporter": "python",
   "pygments_lexer": "ipython3",
   "version": "3.6.8"
  }
 },
 "nbformat": 4,
 "nbformat_minor": 2
}
